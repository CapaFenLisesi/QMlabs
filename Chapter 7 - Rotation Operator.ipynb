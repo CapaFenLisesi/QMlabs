{
 "metadata": {
  "name": ""
 },
 "nbformat": 3,
 "nbformat_minor": 0,
 "worksheets": [
  {
   "cells": [
    {
     "cell_type": "markdown",
     "metadata": {},
     "source": [
      "##Chapter 7 - Rotation Operator"
     ]
    },
    {
     "cell_type": "code",
     "collapsed": false,
     "input": [
      "%pylab inline\n",
      "from qutip import *"
     ],
     "language": "python",
     "metadata": {},
     "outputs": [
      {
       "output_type": "stream",
       "stream": "stdout",
       "text": [
        "Populating the interactive namespace from numpy and matplotlib\n"
       ]
      }
     ],
     "prompt_number": 1
    },
    {
     "cell_type": "markdown",
     "metadata": {},
     "source": [
      "Our usual spin operators (spin-1/2)"
     ]
    },
    {
     "cell_type": "code",
     "collapsed": false,
     "input": [
      "pz = Qobj([[1],[0]])\n",
      "mz = Qobj([[0],[1]])\n",
      "px = Qobj([[1/sqrt(2)],[1/sqrt(2)]])\n",
      "mx = Qobj([[1/sqrt(2)],[-1/sqrt(2)]])\n",
      "py = Qobj([[1/sqrt(2)],[1j/sqrt(2)]])\n",
      "my = Qobj([[1/sqrt(2)],[-1j/sqrt(2)]])\n",
      "Sx = 1/2.0*sigmax()\n",
      "Sy = 1/2.0*sigmay()\n",
      "Sz = 1/2.0*sigmaz()\n",
      "Splus = Sx + 1j*Sy\n",
      "Sminus = Sx - 1j*Sy"
     ],
     "language": "python",
     "metadata": {},
     "outputs": [],
     "prompt_number": 2
    },
    {
     "cell_type": "markdown",
     "metadata": {},
     "source": [
      "Define the spin-1 operators. We use J just to keep them apart. Could be S instead."
     ]
    },
    {
     "cell_type": "code",
     "collapsed": false,
     "input": [
      "Jx = 1/sqrt(2)*Qobj([[0,1,0],[1,0,1],[0,1,0]])\n",
      "Jy = 1/sqrt(2)*Qobj([[0,-1j,0],[1j,0,-1j],[0,1j,0]])\n",
      "Jz = Qobj([[1,0,0],[0,0,0],[0,0,-1]])\n",
      "Jplus = Jx + 1j*Jy\n",
      "Jminus = Jx - 1j*Jy"
     ],
     "language": "python",
     "metadata": {},
     "outputs": [],
     "prompt_number": 3
    },
    {
     "cell_type": "markdown",
     "metadata": {},
     "source": [
      "## Rotations of spin-1/2"
     ]
    },
    {
     "cell_type": "code",
     "collapsed": false,
     "input": [
      "Rz90 = (-1j*pi/2*Sz).expm()"
     ],
     "language": "python",
     "metadata": {},
     "outputs": [],
     "prompt_number": 4
    },
    {
     "cell_type": "code",
     "collapsed": false,
     "input": [
      "Rz90"
     ],
     "language": "python",
     "metadata": {},
     "outputs": [
      {
       "latex": [
        "\\begin{equation}\\text{Quantum object: dims = [[2], [2]], shape = [2, 2], type = oper, isHerm = False}\\\\[1em]\\begin{pmatrix}(0.707106781187-0.707106781187j) & 0.0\\\\0.0 & (0.707106781187+0.707106781187j)\\\\\\end{pmatrix}\\end{equation}"
       ],
       "metadata": {},
       "output_type": "pyout",
       "prompt_number": 5,
       "text": [
        "Quantum object: dims = [[2], [2]], shape = [2, 2], type = oper, isherm = False\n",
        "Qobj data =\n",
        "[[ 0.70710678-0.70710678j  0.00000000+0.j        ]\n",
        " [ 0.00000000+0.j          0.70710678+0.70710678j]]"
       ]
      }
     ],
     "prompt_number": 5
    },
    {
     "cell_type": "code",
     "collapsed": false,
     "input": [
      "Rz90*px"
     ],
     "language": "python",
     "metadata": {},
     "outputs": [
      {
       "latex": [
        "\\begin{equation}\\text{Quantum object: dims = [[2], [1]], shape = [2, 1], type = ket}\\\\[1em]\\begin{pmatrix}(0.5-0.5j)\\\\(0.5+0.5j)\\\\\\end{pmatrix}\\end{equation}"
       ],
       "metadata": {},
       "output_type": "pyout",
       "prompt_number": 6,
       "text": [
        "Quantum object: dims = [[2], [1]], shape = [2, 1], type = ket\n",
        "Qobj data =\n",
        "[[ 0.5-0.5j]\n",
        " [ 0.5+0.5j]]"
       ]
      }
     ],
     "prompt_number": 6
    },
    {
     "cell_type": "markdown",
     "metadata": {},
     "source": [
      "Doesn't look like example 7.4 because it's not simplified. How to check:"
     ]
    },
    {
     "cell_type": "code",
     "collapsed": false,
     "input": [
      "exp(-1j*pi/4)*py"
     ],
     "language": "python",
     "metadata": {},
     "outputs": [
      {
       "latex": [
        "\\begin{equation}\\text{Quantum object: dims = [[2], [1]], shape = [2, 1], type = ket}\\\\[1em]\\begin{pmatrix}(0.5-0.5j)\\\\(0.5+0.5j)\\\\\\end{pmatrix}\\end{equation}"
       ],
       "metadata": {},
       "output_type": "pyout",
       "prompt_number": 7,
       "text": [
        "Quantum object: dims = [[2], [1]], shape = [2, 1], type = ket\n",
        "Qobj data =\n",
        "[[ 0.5-0.5j]\n",
        " [ 0.5+0.5j]]"
       ]
      }
     ],
     "prompt_number": 7
    },
    {
     "cell_type": "markdown",
     "metadata": {},
     "source": [
      "Can also use inner product:"
     ]
    },
    {
     "cell_type": "code",
     "collapsed": false,
     "input": [
      "mx.dag()*Rz90*px"
     ],
     "language": "python",
     "metadata": {},
     "outputs": [
      {
       "latex": [
        "\\begin{equation}\\text{Quantum object: dims = [[1], [1]], shape = [1, 1], type = oper, isHerm = False}\\\\[1em]\\begin{pmatrix}-0.707106781187j\\\\\\end{pmatrix}\\end{equation}"
       ],
       "metadata": {},
       "output_type": "pyout",
       "prompt_number": 8,
       "text": [
        "Quantum object: dims = [[1], [1]], shape = [1, 1], type = oper, isherm = False\n",
        "Qobj data =\n",
        "[[ 0.-0.70710678j]]"
       ]
      }
     ],
     "prompt_number": 8
    },
    {
     "cell_type": "code",
     "collapsed": false,
     "input": [
      "angle(0.707 - 0.707j) == -pi/4"
     ],
     "language": "python",
     "metadata": {},
     "outputs": [
      {
       "metadata": {},
       "output_type": "pyout",
       "prompt_number": 9,
       "text": [
        "True"
       ]
      }
     ],
     "prompt_number": 9
    },
    {
     "cell_type": "markdown",
     "metadata": {},
     "source": [
      "##Find the spin-1 states (the eigenstates of the corresponding matrix)"
     ]
    },
    {
     "cell_type": "code",
     "collapsed": false,
     "input": [
      "evals, (yd,y0,yu) = Jy.eigenstates()\n",
      "evals, (zd,z0,zu) = Jz.eigenstates()\n",
      "evals, (xd,x0,xu) = Jx.eigenstates()\n",
      "xd = -xd  # fix the signs to match book\n",
      "yu = -yu  # fix the signs to match book"
     ],
     "language": "python",
     "metadata": {},
     "outputs": [],
     "prompt_number": 10
    },
    {
     "cell_type": "code",
     "collapsed": false,
     "input": [
      "yd"
     ],
     "language": "python",
     "metadata": {},
     "outputs": [
      {
       "latex": [
        "\\begin{equation}\\text{Quantum object: dims = [[3], [1]], shape = [3, 1], type = ket}\\\\[1em]\\begin{pmatrix}0.5\\\\-0.707106781187j\\\\-0.5\\\\\\end{pmatrix}\\end{equation}"
       ],
       "metadata": {},
       "output_type": "pyout",
       "prompt_number": 28,
       "text": [
        "Quantum object: dims = [[3], [1]], shape = [3, 1], type = ket\n",
        "Qobj data =\n",
        "[[ 0.5+0.j        ]\n",
        " [ 0.0-0.70710678j]\n",
        " [-0.5+0.j        ]]"
       ]
      }
     ],
     "prompt_number": 28
    },
    {
     "cell_type": "code",
     "collapsed": false,
     "input": [
      "Rz90 = (-1j*pi/2*Jz).expm()"
     ],
     "language": "python",
     "metadata": {},
     "outputs": [],
     "prompt_number": 80
    },
    {
     "cell_type": "code",
     "collapsed": false,
     "input": [
      "Rz90*x0"
     ],
     "language": "python",
     "metadata": {},
     "outputs": [
      {
       "latex": [
        "\\begin{equation}\\text{Quantum object: dims = [[3], [1]], shape = [3, 1], type = ket}\\\\[1em]\\begin{pmatrix}-0.707106781187j\\\\0.0\\\\-0.707106781187j\\\\\\end{pmatrix}\\end{equation}"
       ],
       "metadata": {},
       "output_type": "pyout",
       "prompt_number": 81,
       "text": [
        "Quantum object: dims = [[3], [1]], shape = [3, 1], type = ket\n",
        "Qobj data =\n",
        "[[ 0.-0.70710678j]\n",
        " [ 0.+0.j        ]\n",
        " [ 0.-0.70710678j]]"
       ]
      }
     ],
     "prompt_number": 81
    },
    {
     "cell_type": "code",
     "collapsed": false,
     "input": [
      "y0"
     ],
     "language": "python",
     "metadata": {},
     "outputs": [
      {
       "latex": [
        "\\begin{equation}\\text{Quantum object: dims = [[3], [1]], shape = [3, 1], type = ket}\\\\[1em]\\begin{pmatrix}0.707106781187\\\\0.0\\\\0.707106781187\\\\\\end{pmatrix}\\end{equation}"
       ],
       "metadata": {},
       "output_type": "pyout",
       "prompt_number": 16,
       "text": [
        "Quantum object: dims = [[3], [1]], shape = [3, 1], type = ket\n",
        "Qobj data =\n",
        "[[ 0.70710678]\n",
        " [ 0.        ]\n",
        " [ 0.70710678]]"
       ]
      }
     ],
     "prompt_number": 16
    },
    {
     "cell_type": "code",
     "collapsed": false,
     "input": [
      "xu"
     ],
     "language": "python",
     "metadata": {},
     "outputs": [
      {
       "latex": [
        "\\begin{equation}\\text{Quantum object: dims = [[3], [1]], shape = [3, 1], type = ket}\\\\[1em]\\begin{pmatrix}0.5\\\\0.707106781187\\\\0.5\\\\\\end{pmatrix}\\end{equation}"
       ],
       "metadata": {},
       "output_type": "pyout",
       "prompt_number": 11,
       "text": [
        "Quantum object: dims = [[3], [1]], shape = [3, 1], type = ket\n",
        "Qobj data =\n",
        "[[ 0.5       ]\n",
        " [ 0.70710678]\n",
        " [ 0.5       ]]"
       ]
      }
     ],
     "prompt_number": 11
    },
    {
     "cell_type": "code",
     "collapsed": false,
     "input": [],
     "language": "python",
     "metadata": {},
     "outputs": []
    }
   ],
   "metadata": {}
  }
 ]
}