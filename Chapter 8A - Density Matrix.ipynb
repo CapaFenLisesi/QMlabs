{
 "metadata": {
  "name": ""
 },
 "nbformat": 3,
 "nbformat_minor": 0,
 "worksheets": [
  {
   "cells": [
    {
     "cell_type": "code",
     "collapsed": false,
     "input": [
      "%pylab inline\n",
      "from qutip import *"
     ],
     "language": "python",
     "metadata": {},
     "outputs": [
      {
       "output_type": "stream",
       "stream": "stdout",
       "text": [
        "Populating the interactive namespace from numpy and matplotlib\n"
       ]
      }
     ],
     "prompt_number": 1
    },
    {
     "cell_type": "code",
     "collapsed": false,
     "input": [
      "H = Qobj([[1],[0]])\n",
      "V = Qobj([[0],[1]])"
     ],
     "language": "python",
     "metadata": {},
     "outputs": [],
     "prompt_number": 2
    },
    {
     "cell_type": "markdown",
     "metadata": {},
     "source": [
      "## Example 8.A.1:"
     ]
    },
    {
     "cell_type": "code",
     "collapsed": false,
     "input": [
      "psi = 1/sqrt(2)*tensor(H,H) + 1/sqrt(2)*tensor(V,V)\n",
      "psi"
     ],
     "language": "python",
     "metadata": {},
     "outputs": [
      {
       "latex": [
        "\\begin{equation}\\text{Quantum object: dims = [[2, 2], [1, 1]], shape = [4, 1], type = ket}\\\\[1em]\\begin{pmatrix}0.707106781187\\\\0.0\\\\0.0\\\\0.707106781187\\\\\\end{pmatrix}\\end{equation}"
       ],
       "metadata": {},
       "output_type": "pyout",
       "prompt_number": 4,
       "text": [
        "Quantum object: dims = [[2, 2], [1, 1]], shape = [4, 1], type = ket\n",
        "Qobj data =\n",
        "[[ 0.70710678]\n",
        " [ 0.        ]\n",
        " [ 0.        ]\n",
        " [ 0.70710678]]"
       ]
      }
     ],
     "prompt_number": 4
    },
    {
     "cell_type": "code",
     "collapsed": false,
     "input": [
      "rho_ent = psi*psi.dag()"
     ],
     "language": "python",
     "metadata": {},
     "outputs": [],
     "prompt_number": 5
    },
    {
     "cell_type": "code",
     "collapsed": false,
     "input": [
      "(rho_ent*rho_ent).tr()"
     ],
     "language": "python",
     "metadata": {},
     "outputs": [
      {
       "metadata": {},
       "output_type": "pyout",
       "prompt_number": 16,
       "text": [
        "0.9999999999999996"
       ]
      }
     ],
     "prompt_number": 16
    },
    {
     "cell_type": "code",
     "collapsed": false,
     "input": [
      "rho_mix = 0.5*tensor(H,H)*tensor(H,H).dag() + 0.5*tensor(V,V)*tensor(V,V).dag()"
     ],
     "language": "python",
     "metadata": {},
     "outputs": [],
     "prompt_number": 7
    },
    {
     "cell_type": "code",
     "collapsed": false,
     "input": [
      "(rho_mix*rho_mix).tr()"
     ],
     "language": "python",
     "metadata": {},
     "outputs": [
      {
       "metadata": {},
       "output_type": "pyout",
       "prompt_number": 17,
       "text": [
        "0.5"
       ]
      }
     ],
     "prompt_number": 17
    },
    {
     "cell_type": "markdown",
     "metadata": {},
     "source": [
      "## Example 8.A.2"
     ]
    },
    {
     "cell_type": "markdown",
     "metadata": {},
     "source": [
      "Remember the 45 states:"
     ]
    },
    {
     "cell_type": "code",
     "collapsed": false,
     "input": [
      "P45 = Qobj([[1/sqrt(2)],[1/sqrt(2)]])\n",
      "M45 = Qobj([[1/sqrt(2)],[-1/sqrt(2)]])"
     ],
     "language": "python",
     "metadata": {},
     "outputs": [],
     "prompt_number": 9
    },
    {
     "cell_type": "markdown",
     "metadata": {},
     "source": [
      "Create the projection operator for $|+45,+45\\rangle$"
     ]
    },
    {
     "cell_type": "code",
     "collapsed": false,
     "input": [
      "Proj_4545 = tensor(P45,P45)*tensor(P45,P45).dag()"
     ],
     "language": "python",
     "metadata": {},
     "outputs": [],
     "prompt_number": 10
    },
    {
     "cell_type": "code",
     "collapsed": false,
     "input": [
      "(Proj_4545*rho_mix).tr()"
     ],
     "language": "python",
     "metadata": {},
     "outputs": [
      {
       "metadata": {},
       "output_type": "pyout",
       "prompt_number": 11,
       "text": [
        "(0.2499999999999999+0j)"
       ]
      }
     ],
     "prompt_number": 11
    },
    {
     "cell_type": "markdown",
     "metadata": {},
     "source": [
      "Create projection operator for $|+45\\rangle_i$"
     ]
    },
    {
     "cell_type": "code",
     "collapsed": false,
     "input": [
      "Proj_45i = tensor(qeye(2),P45)*tensor(qeye(2),P45).dag()"
     ],
     "language": "python",
     "metadata": {},
     "outputs": [],
     "prompt_number": 12
    },
    {
     "cell_type": "code",
     "collapsed": false,
     "input": [
      "(Proj_45i*rho_mix).tr()"
     ],
     "language": "python",
     "metadata": {},
     "outputs": [
      {
       "metadata": {},
       "output_type": "pyout",
       "prompt_number": 13,
       "text": [
        "(0.4999999999999999+0j)"
       ]
      }
     ],
     "prompt_number": 13
    },
    {
     "cell_type": "code",
     "collapsed": false,
     "input": [
      "0.25/0.5"
     ],
     "language": "python",
     "metadata": {},
     "outputs": [
      {
       "metadata": {},
       "output_type": "pyout",
       "prompt_number": 32,
       "text": [
        "0.5"
       ]
      }
     ],
     "prompt_number": 32
    },
    {
     "cell_type": "markdown",
     "metadata": {},
     "source": [
      "### Extend the example for the pure (superposition) state"
     ]
    },
    {
     "cell_type": "code",
     "collapsed": false,
     "input": [
      "(Proj_4545*rho_ent).tr() / (Proj_45i*rho_ent).tr()"
     ],
     "language": "python",
     "metadata": {},
     "outputs": [
      {
       "metadata": {},
       "output_type": "pyout",
       "prompt_number": 34,
       "text": [
        "(0.9999999999999998+0j)"
       ]
      }
     ],
     "prompt_number": 34
    },
    {
     "cell_type": "markdown",
     "metadata": {},
     "source": [
      "The photons are entanlged and therefore show perfect correlation even in the +45 measurements."
     ]
    }
   ],
   "metadata": {}
  }
 ]
}