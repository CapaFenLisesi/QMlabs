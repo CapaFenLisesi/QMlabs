{
 "cells": [
  {
   "cell_type": "markdown",
   "metadata": {},
   "source": [
    "# Measurement simulation\n",
    "A way to simulate data from measurements of a specific quantum state.\n",
    "\n",
    "Start with standard imports:"
   ]
  },
  {
   "cell_type": "code",
   "execution_count": 42,
   "metadata": {
    "collapsed": true
   },
   "outputs": [],
   "source": [
    "import matplotlib.pyplot as plt\n",
    "from numpy import sqrt,pi,cos,sin,arange,random\n",
    "from qutip import *\n",
    "%matplotlib inline"
   ]
  },
  {
   "cell_type": "markdown",
   "metadata": {},
   "source": [
    "Define several standard states, these are photon polarization states:"
   ]
  },
  {
   "cell_type": "code",
   "execution_count": 43,
   "metadata": {
    "collapsed": false
   },
   "outputs": [],
   "source": [
    "H = Qobj([[1],[0]])\n",
    "V = Qobj([[0],[1]])\n",
    "P45 = Qobj([[1/sqrt(2)],[1/sqrt(2)]])\n",
    "M45 = Qobj([[1/sqrt(2)],[-1/sqrt(2)]])\n",
    "R = Qobj([[1/sqrt(2)],[-1j/sqrt(2)]])\n",
    "L = Qobj([[1/sqrt(2)],[1j/sqrt(2)]])"
   ]
  },
  {
   "cell_type": "code",
   "execution_count": 59,
   "metadata": {
    "collapsed": false
   },
   "outputs": [
    {
     "data": {
      "text/latex": [
       "Quantum object: dims = [[2], [2]], shape = [2, 2], type = oper, isherm = True\\begin{equation*}\\left(\\begin{array}{*{11}c}1.0 & 0.0\\\\0.0 & -1.0\\\\\\end{array}\\right)\\end{equation*}"
      ],
      "text/plain": [
       "Quantum object: dims = [[2], [2]], shape = [2, 2], type = oper, isherm = True\n",
       "Qobj data =\n",
       "[[ 1.  0.]\n",
       " [ 0. -1.]]"
      ]
     },
     "execution_count": 59,
     "metadata": {},
     "output_type": "execute_result"
    }
   ],
   "source": [
    "# Define the Phv measurement operator:\n",
    "Phv = H*H.dag() - V*V.dag()\n",
    "Phv"
   ]
  },
  {
   "cell_type": "markdown",
   "metadata": {},
   "source": [
    "Define a quantum state: $$|\\psi\\rangle = \\frac{1}{\\sqrt{5}} |H\\rangle + \\frac{2}{\\sqrt{5}} |V\\rangle$$"
   ]
  },
  {
   "cell_type": "code",
   "execution_count": 44,
   "metadata": {
    "collapsed": false
   },
   "outputs": [
    {
     "data": {
      "text/latex": [
       "Quantum object: dims = [[2], [1]], shape = [2, 1], type = ket\\begin{equation*}\\left(\\begin{array}{*{11}c}0.447\\\\0.894\\\\\\end{array}\\right)\\end{equation*}"
      ],
      "text/plain": [
       "Quantum object: dims = [[2], [1]], shape = [2, 1], type = ket\n",
       "Qobj data =\n",
       "[[ 0.4472136 ]\n",
       " [ 0.89442719]]"
      ]
     },
     "execution_count": 44,
     "metadata": {},
     "output_type": "execute_result"
    }
   ],
   "source": [
    "psi = 1/sqrt(5)*H + 2/sqrt(5)*V\n",
    "psi"
   ]
  },
  {
   "cell_type": "code",
   "execution_count": 46,
   "metadata": {
    "collapsed": false
   },
   "outputs": [],
   "source": [
    "pvals = [qo.data.data[0] for qo in [V.dag()*psi, H.dag()*psi]]"
   ]
  },
  {
   "cell_type": "code",
   "execution_count": 64,
   "metadata": {
    "collapsed": false
   },
   "outputs": [
    {
     "data": {
      "text/plain": [
       "array([ 1.+0.j, -1.+0.j, -1.+0.j, ..., -1.+0.j, -1.+0.j, -1.+0.j])"
      ]
     },
     "execution_count": 64,
     "metadata": {},
     "output_type": "execute_result"
    }
   ],
   "source": [
    "allowed_results = [r.data.data[0] for r in [H.dag()*Phv*H, V.dag()*Phv*V]]\n",
    "#allowed_results = [1,-1] # define the possible outcomes\n",
    "probability_amps = [qo.data.data[0] for qo in [H.dag()*psi, V.dag()*psi]]\n",
    "pvals = [abs(pa.conjugate()*pa) for pa in probability_amps]\n",
    "data = random.choice(allowed_results,size=1000000,p=pvals)\n",
    "data"
   ]
  },
  {
   "cell_type": "code",
   "execution_count": 65,
   "metadata": {
    "collapsed": true
   },
   "outputs": [],
   "source": [
    "# turn this into a function:\n",
    "def simulateData(state,oper,basis,size=10000):\n",
    "    \"\"\"Generate a simulated data given a state and the measurement operator\"\"\"\n",
    "    A = basis[0]\n",
    "    B = basis[1]\n",
    "    allowed_results = [r.data.data[0] for r in [A.dag()*oper*A, B.dag()*oper*B]]\n",
    "    probability_amps = [qo.data.data[0] for qo in [A.dag()*state, B.dag()*state]]\n",
    "    pvals = [abs(pa.conjugate()*pa) for pa in probability_amps]\n",
    "    data = random.choice(allowed_results,size=size,p=pvals)\n",
    "    return data"
   ]
  },
  {
   "cell_type": "code",
   "execution_count": 67,
   "metadata": {
    "collapsed": false
   },
   "outputs": [],
   "source": [
    "data = simulateData(psi,Phv,[H,V])"
   ]
  },
  {
   "cell_type": "code",
   "execution_count": 74,
   "metadata": {
    "collapsed": false
   },
   "outputs": [
    {
     "name": "stdout",
     "output_type": "stream",
     "text": [
      "Variance:  0.65119164\n",
      "Mean:  (-0.5906+0j)\n"
     ]
    }
   ],
   "source": [
    "print(\"Variance: \",data.var())\n",
    "print(\"Mean: \",data.mean())"
   ]
  },
  {
   "cell_type": "code",
   "execution_count": null,
   "metadata": {
    "collapsed": true
   },
   "outputs": [],
   "source": []
  }
 ],
 "metadata": {
  "kernelspec": {
   "display_name": "Python 3",
   "language": "python",
   "name": "python3"
  },
  "language_info": {
   "codemirror_mode": {
    "name": "ipython",
    "version": 3
   },
   "file_extension": ".py",
   "mimetype": "text/x-python",
   "name": "python",
   "nbconvert_exporter": "python",
   "pygments_lexer": "ipython3",
   "version": "3.5.1"
  }
 },
 "nbformat": 4,
 "nbformat_minor": 0
}
