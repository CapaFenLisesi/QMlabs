{
 "metadata": {
  "name": ""
 },
 "nbformat": 3,
 "nbformat_minor": 0,
 "worksheets": [
  {
   "cells": [
    {
     "cell_type": "markdown",
     "metadata": {},
     "source": [
      "#Lab 4 - Measurements\n",
      "First our standard definitions:"
     ]
    },
    {
     "cell_type": "code",
     "collapsed": false,
     "input": [
      "%pylab inline\n",
      "from qutip import *"
     ],
     "language": "python",
     "metadata": {},
     "outputs": [
      {
       "output_type": "stream",
       "stream": "stdout",
       "text": [
        "Populating the interactive namespace from numpy and matplotlib\n"
       ]
      }
     ],
     "prompt_number": 2
    },
    {
     "cell_type": "code",
     "collapsed": false,
     "input": [
      "H = Qobj([[1],[0]])\n",
      "V = Qobj([[0],[1]])\n",
      "P45 = Qobj([[1/sqrt(2)],[1/sqrt(2)]])\n",
      "M45 = Qobj([[1/sqrt(2)],[-1/sqrt(2)]])\n",
      "R = Qobj([[1/sqrt(2)],[-1j/sqrt(2)]])\n",
      "L = Qobj([[1/sqrt(2)],[1j/sqrt(2)]])"
     ],
     "language": "python",
     "metadata": {},
     "outputs": [],
     "prompt_number": 3
    },
    {
     "cell_type": "code",
     "collapsed": false,
     "input": [
      "def sim_transform(o_basis1, o_basis2, n_basis1, n_basis2):\n",
      "    a = n_basis1.dag()*o_basis1\n",
      "    b = n_basis1.dag()*o_basis2\n",
      "    c = n_basis2.dag()*o_basis1\n",
      "    d = n_basis2.dag()*o_basis2\n",
      "    return Qobj([[a.data[0,0],b.data[0,0]],[c.data[0,0],d.data[0,0]]])"
     ],
     "language": "python",
     "metadata": {},
     "outputs": [],
     "prompt_number": 3
    },
    {
     "cell_type": "code",
     "collapsed": false,
     "input": [
      "def Delta(state, op):\n",
      "    \"\"\"Calculate std. dev. of an observable in a given state\"\"\"\n",
      "    eO2 = state.dag()*op*op*state\n",
      "    eO = state.dag()*op*state\n",
      "    return sqrt(eO2.data[0,0] - (eO.data[0,0])**2)"
     ],
     "language": "python",
     "metadata": {},
     "outputs": []
    },
    {
     "cell_type": "markdown",
     "metadata": {},
     "source": [
      "###Q: Define the $\\hat{\\mathscr{P}}_{HV}$ operator"
     ]
    },
    {
     "cell_type": "code",
     "collapsed": false,
     "input": [
      "Phv = H*H.dag() - V*V.dag()\n",
      "Phv"
     ],
     "language": "python",
     "metadata": {},
     "outputs": [
      {
       "latex": [
        "\\begin{equation}\\text{Quantum object: dims = [[2], [2]], shape = [2, 2], type = oper, isHerm = True}\\\\[1em]\\begin{pmatrix}1.0 & 0.0\\\\0.0 & -1.0\\\\\\end{pmatrix}\\end{equation}"
       ],
       "metadata": {},
       "output_type": "pyout",
       "prompt_number": 29,
       "text": [
        "Quantum object: dims = [[2], [2]], shape = [2, 2], type = oper, isherm = True\n",
        "Qobj data =\n",
        "[[ 1.  0.]\n",
        " [ 0. -1.]]"
       ]
      }
     ],
     "prompt_number": 29
    },
    {
     "cell_type": "markdown",
     "metadata": {},
     "source": [
      "###Q: What is the expectation value $\\langle \\hat{\\mathscr{P}}_{HV}\\rangle$ for state $|\\psi\\rangle = \\frac{1}{\\sqrt{5}}|H\\rangle + \\frac{2}{\\sqrt{5}}|V\\rangle$? Interpret this result given the amplitudes in the state."
     ]
    },
    {
     "cell_type": "code",
     "collapsed": false,
     "input": [
      "psi = 1/sqrt(5)*H + 2/sqrt(5)*V"
     ],
     "language": "python",
     "metadata": {},
     "outputs": [],
     "prompt_number": 10
    },
    {
     "cell_type": "code",
     "collapsed": false,
     "input": [
      "psi.dag()*Phv*psi"
     ],
     "language": "python",
     "metadata": {},
     "outputs": [
      {
       "latex": [
        "\\begin{equation}\\text{Quantum object: dims = [[1], [1]], shape = [1, 1], type = oper, isHerm = True}\\\\[1em]\\begin{pmatrix}-0.6\\\\\\end{pmatrix}\\end{equation}"
       ],
       "metadata": {},
       "output_type": "pyout",
       "prompt_number": 11,
       "text": [
        "Quantum object: dims = [[1], [1]], shape = [1, 1], type = oper, isherm = True\n",
        "Qobj data =\n",
        "[[-0.6]]"
       ]
      }
     ],
     "prompt_number": 11
    },
    {
     "cell_type": "markdown",
     "metadata": {},
     "source": [
      "###Q: What is the variance of $\\mathscr{P}_{HV}$?"
     ]
    },
    {
     "cell_type": "code",
     "collapsed": false,
     "input": [
      "psi.dag()*Phv*Phv*psi"
     ],
     "language": "python",
     "metadata": {},
     "outputs": [
      {
       "latex": [
        "\\begin{equation}\\text{Quantum object: dims = [[1], [1]], shape = [1, 1], type = oper, isHerm = True}\\\\[1em]\\begin{pmatrix}1.0\\\\\\end{pmatrix}\\end{equation}"
       ],
       "metadata": {},
       "output_type": "pyout",
       "prompt_number": 12,
       "text": [
        "Quantum object: dims = [[1], [1]], shape = [1, 1], type = oper, isherm = True\n",
        "Qobj data =\n",
        "[[ 1.]]"
       ]
      }
     ],
     "prompt_number": 12
    },
    {
     "cell_type": "code",
     "collapsed": false,
     "input": [
      "1.0 - (-0.6)**2"
     ],
     "language": "python",
     "metadata": {},
     "outputs": [
      {
       "metadata": {},
       "output_type": "pyout",
       "prompt_number": 13,
       "text": [
        "0.64"
       ]
      }
     ],
     "prompt_number": 13
    },
    {
     "cell_type": "markdown",
     "metadata": {},
     "source": [
      "###Ex: Use the random function to generate a mock data set for the state $|\\psi\\rangle$.\n",
      "    random.choice([1,-1],size=10,p=[0.2,0.8])\n",
      "gives a list of 10 numbers, either 1 or -1 with the associated probability p:"
     ]
    },
    {
     "cell_type": "code",
     "collapsed": false,
     "input": [
      "data = random.choice([1, -1],size=10000,p=[0.2,0.8])"
     ],
     "language": "python",
     "metadata": {},
     "outputs": [],
     "prompt_number": 68
    },
    {
     "cell_type": "code",
     "collapsed": false,
     "input": [
      "data.mean()"
     ],
     "language": "python",
     "metadata": {},
     "outputs": [
      {
       "metadata": {},
       "output_type": "pyout",
       "prompt_number": 69,
       "text": [
        "-0.58819999999999995"
       ]
      }
     ],
     "prompt_number": 69
    },
    {
     "cell_type": "code",
     "collapsed": false,
     "input": [
      "data.var()"
     ],
     "language": "python",
     "metadata": {},
     "outputs": [
      {
       "metadata": {},
       "output_type": "pyout",
       "prompt_number": 70,
       "text": [
        "0.65402075999993614"
       ]
      }
     ],
     "prompt_number": 70
    },
    {
     "cell_type": "markdown",
     "metadata": {},
     "source": [
      "###Q: Verify the mean and variance of the mock data set match your QM predictions. How big does the set need to be for you to get \u00b15% agreement?"
     ]
    },
    {
     "cell_type": "code",
     "collapsed": false,
     "input": [],
     "language": "python",
     "metadata": {},
     "outputs": []
    },
    {
     "cell_type": "markdown",
     "metadata": {},
     "source": [
      "###Q: Answer problems 5.11, 5.12, 5.13, 5.14, 5.17, 5.18, 5.19 from the textbook. These are an opportunity to practice with a new operator $\\hat{\\mathscr{P}}_{C}$"
     ]
    },
    {
     "cell_type": "code",
     "collapsed": false,
     "input": [
      "# 5.11\n",
      "P_45 = P45*P45.dag() - M45*M45.dag()"
     ],
     "language": "python",
     "metadata": {},
     "outputs": [],
     "prompt_number": 27
    },
    {
     "cell_type": "code",
     "collapsed": false,
     "input": [
      "#5.12\n",
      "P_c = L*L.dag() - R*R.dag()"
     ],
     "language": "python",
     "metadata": {},
     "outputs": [],
     "prompt_number": 28
    },
    {
     "cell_type": "code",
     "collapsed": false,
     "input": [
      "#5.13\n",
      "(Phv*P_45 - P_45*Phv) == 2j * P_c"
     ],
     "language": "python",
     "metadata": {},
     "outputs": [
      {
       "metadata": {},
       "output_type": "pyout",
       "prompt_number": 87,
       "text": [
        "True"
       ]
      }
     ],
     "prompt_number": 87
    },
    {
     "cell_type": "code",
     "collapsed": false,
     "input": [
      "#5.14\n",
      "(Phv*P_c - P_c*Phv) == -2j * P_45"
     ],
     "language": "python",
     "metadata": {},
     "outputs": [
      {
       "metadata": {},
       "output_type": "pyout",
       "prompt_number": 88,
       "text": [
        "True"
       ]
      }
     ],
     "prompt_number": 88
    },
    {
     "cell_type": "code",
     "collapsed": false,
     "input": [
      "#5.15\n",
      "P_p45 = P45*P45.dag()\n",
      "P_v = V*V.dag()"
     ],
     "language": "python",
     "metadata": {},
     "outputs": [],
     "prompt_number": 83
    },
    {
     "cell_type": "code",
     "collapsed": false,
     "input": [
      "P_p45*P_v - P_v*P_p45"
     ],
     "language": "python",
     "metadata": {},
     "outputs": [
      {
       "latex": [
        "\\begin{equation}\\text{Quantum object: dims = [[2], [2]], shape = [2, 2], type = oper, isHerm = False}\\\\[1em]\\begin{pmatrix}0.0 & 0.5\\\\-0.5 & 0.0\\\\\\end{pmatrix}\\end{equation}"
       ],
       "metadata": {},
       "output_type": "pyout",
       "prompt_number": 84,
       "text": [
        "Quantum object: dims = [[2], [2]], shape = [2, 2], type = oper, isherm = False\n",
        "Qobj data =\n",
        "[[ 0.   0.5]\n",
        " [-0.5  0. ]]"
       ]
      }
     ],
     "prompt_number": 84
    },
    {
     "cell_type": "markdown",
     "metadata": {},
     "source": [
      "##5.19 - this one is tricky, but is easier with our custom function"
     ]
    },
    {
     "cell_type": "code",
     "collapsed": false,
     "input": [
      "psi = 1/sqrt(3)*H + sqrt(2/3.0)*exp(1j*pi/3.0)*V\n",
      "psi.norm()"
     ],
     "language": "python",
     "metadata": {},
     "outputs": [
      {
       "metadata": {},
       "output_type": "pyout",
       "prompt_number": 30,
       "text": [
        "1.0"
       ]
      }
     ],
     "prompt_number": 30
    },
    {
     "cell_type": "code",
     "collapsed": false,
     "input": [
      "Delta(psi,P_45)*Delta(psi,Phv)"
     ],
     "language": "python",
     "metadata": {},
     "outputs": [
      {
       "metadata": {},
       "output_type": "pyout",
       "prompt_number": 42,
       "text": [
        "(0.83147941928309788-5.9343916872217506e-17j)"
       ]
      }
     ],
     "prompt_number": 42
    },
    {
     "cell_type": "code",
     "collapsed": false,
     "input": [
      "1/2j*(psi.dag()*(Phv*P_45 - P_45*Phv)*psi).data[0,0]"
     ],
     "language": "python",
     "metadata": {},
     "outputs": [
      {
       "metadata": {},
       "output_type": "pyout",
       "prompt_number": 43,
       "text": [
        "(0.81649658092772592-2.7755575615628914e-17j)"
       ]
      }
     ],
     "prompt_number": 43
    },
    {
     "cell_type": "code",
     "collapsed": false,
     "input": [],
     "language": "python",
     "metadata": {},
     "outputs": []
    }
   ],
   "metadata": {}
  }
 ]
}