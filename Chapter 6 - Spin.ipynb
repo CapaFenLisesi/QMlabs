{
 "metadata": {
  "name": ""
 },
 "nbformat": 3,
 "nbformat_minor": 0,
 "worksheets": [
  {
   "cells": [
    {
     "cell_type": "code",
     "collapsed": false,
     "input": [
      "%pylab inline\n",
      "from qutip import *"
     ],
     "language": "python",
     "metadata": {},
     "outputs": [
      {
       "output_type": "stream",
       "stream": "stdout",
       "text": [
        "Populating the interactive namespace from numpy and matplotlib\n"
       ]
      }
     ],
     "prompt_number": 1
    },
    {
     "cell_type": "code",
     "collapsed": false,
     "input": [
      "pz = Qobj([[1],[0]])\n",
      "mz = Qobj([[0],[1]])\n",
      "px = Qobj([[1/sqrt(2)],[1/sqrt(2)]])\n",
      "mx = Qobj([[1/sqrt(2)],[-1/sqrt(2)]])\n",
      "py = Qobj([[1/sqrt(2)],[1j/sqrt(2)]])\n",
      "my = Qobj([[1/sqrt(2)],[-1j/sqrt(2)]])\n",
      "Sx = 1/2.0*sigmax()\n",
      "Sy = 1/2.0*sigmay()\n",
      "Sz = 1/2.0*sigmaz()"
     ],
     "language": "python",
     "metadata": {},
     "outputs": [],
     "prompt_number": 8
    },
    {
     "cell_type": "markdown",
     "metadata": {},
     "source": [
      "P(Sx = h/2 | -y)"
     ]
    },
    {
     "cell_type": "code",
     "collapsed": false,
     "input": [
      "((px.dag()*my).norm())**2"
     ],
     "language": "python",
     "metadata": {},
     "outputs": [
      {
       "metadata": {},
       "output_type": "pyout",
       "prompt_number": 13,
       "text": [
        "0.49999999999999978"
       ]
      }
     ],
     "prompt_number": 13
    },
    {
     "cell_type": "code",
     "collapsed": false,
     "input": [
      "Sx*Sz - Sz*Sx == -1j*Sy"
     ],
     "language": "python",
     "metadata": {},
     "outputs": [
      {
       "metadata": {},
       "output_type": "pyout",
       "prompt_number": 15,
       "text": [
        "True"
       ]
      }
     ],
     "prompt_number": 15
    },
    {
     "cell_type": "code",
     "collapsed": false,
     "input": [],
     "language": "python",
     "metadata": {},
     "outputs": []
    }
   ],
   "metadata": {}
  }
 ]
}