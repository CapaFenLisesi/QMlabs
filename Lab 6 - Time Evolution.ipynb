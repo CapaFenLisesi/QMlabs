{
 "metadata": {
  "name": "",
  "signature": "sha256:d079a106098c62668fc46f0556ca1d10afff435ed0eab3938da68610d0cc4a38"
 },
 "nbformat": 3,
 "nbformat_minor": 0,
 "worksheets": [
  {
   "cells": [
    {
     "cell_type": "markdown",
     "metadata": {},
     "source": [
      "#Lab 6 - Time Evolution\n",
      "Exploring time evolution of quantum states. Run the usual imports, but leave out \"inline\" since we want plots to appear in a new window this time. Also, use the spin-1/2 states as previously defined:"
     ]
    },
    {
     "cell_type": "code",
     "collapsed": false,
     "input": [
      "%pylab\n",
      "from qutip import *"
     ],
     "language": "python",
     "metadata": {},
     "outputs": [
      {
       "output_type": "stream",
       "stream": "stdout",
       "text": [
        "Using matplotlib backend: MacOSX\n",
        "Populating the interactive namespace from numpy and matplotlib\n"
       ]
      },
      {
       "output_type": "stream",
       "stream": "stderr",
       "text": [
        "WARNING: pylab import has clobbered these variables: ['entropy', 'identity', 'shape', 'info', 'inv', 'test']\n",
        "`%matplotlib` prevents importing * from pylab and numpy\n"
       ]
      }
     ],
     "prompt_number": 2
    },
    {
     "cell_type": "code",
     "collapsed": false,
     "input": [
      "pz = Qobj([[1],[0]])\n",
      "mz = Qobj([[0],[1]])\n",
      "px = Qobj([[1/sqrt(2)],[1/sqrt(2)]])\n",
      "mx = Qobj([[1/sqrt(2)],[-1/sqrt(2)]])\n",
      "py = Qobj([[1/sqrt(2)],[1j/sqrt(2)]])\n",
      "my = Qobj([[1/sqrt(2)],[-1j/sqrt(2)]])\n",
      "Sx = 1/2.0*sigmax()\n",
      "Sy = 1/2.0*sigmay()\n",
      "Sz = 1/2.0*sigmaz()"
     ],
     "language": "python",
     "metadata": {},
     "outputs": [],
     "prompt_number": 2
    },
    {
     "cell_type": "markdown",
     "metadata": {},
     "source": [
      "Define the Hamiltonian:"
     ]
    },
    {
     "cell_type": "code",
     "collapsed": false,
     "input": [
      "omega = 2*pi\n",
      "H = -omega*Sz"
     ],
     "language": "python",
     "metadata": {},
     "outputs": [],
     "prompt_number": 3
    },
    {
     "cell_type": "code",
     "collapsed": false,
     "input": [
      "t = arange(0,4*pi/omega,0.05)"
     ],
     "language": "python",
     "metadata": {},
     "outputs": [],
     "prompt_number": 4
    },
    {
     "cell_type": "markdown",
     "metadata": {},
     "source": [
      "The next line calls a Schr\u00f6dinger equation solver (sesolve). It's arguments are the Hamiltonian, the starting state (px), the time values, and a list of operators. `sesolve` returns many things, but the `expect` method is most useful, it gives the expectation values of the three operators in the operator list."
     ]
    },
    {
     "cell_type": "code",
     "collapsed": false,
     "input": [
      "result1 = sesolve(H, px, t, [Sx,Sy,Sz])"
     ],
     "language": "python",
     "metadata": {},
     "outputs": [],
     "prompt_number": 5
    },
    {
     "cell_type": "code",
     "collapsed": false,
     "input": [
      "for r in result1.expect:\n",
      "    plot(result1.times*omega/pi, r)"
     ],
     "language": "python",
     "metadata": {},
     "outputs": [
      {
       "output_type": "stream",
       "stream": "stderr",
       "text": [
        "/Users/dawes/anaconda/lib/python2.7/site-packages/numpy/core/numeric.py:460: ComplexWarning: Casting complex values to real discards the imaginary part\n",
        "  return array(a, dtype, copy=False, order=order)\n"
       ]
      }
     ],
     "prompt_number": 6
    },
    {
     "cell_type": "markdown",
     "metadata": {},
     "source": [
      "Now what if the system starts in $|+z\\rangle$?"
     ]
    },
    {
     "cell_type": "code",
     "collapsed": false,
     "input": [
      "result2 = sesolve(H, pz, t, [Sx,Sy,Sz])"
     ],
     "language": "python",
     "metadata": {},
     "outputs": [],
     "prompt_number": 7
    },
    {
     "cell_type": "code",
     "collapsed": false,
     "input": [
      "for r in result2.expect:\n",
      "    plot(result2.times*omega/pi, r)"
     ],
     "language": "python",
     "metadata": {},
     "outputs": [],
     "prompt_number": 8
    },
    {
     "cell_type": "markdown",
     "metadata": {},
     "source": [
      "## Two particle systems:"
     ]
    },
    {
     "cell_type": "code",
     "collapsed": false,
     "input": [
      "psi = 1/sqrt(2)*tensor(pz, mz) + 1/sqrt(2)*tensor(mz, pz)\n",
      "#psi = tensor(mz,pz)"
     ],
     "language": "python",
     "metadata": {},
     "outputs": [],
     "prompt_number": 9
    },
    {
     "cell_type": "markdown",
     "metadata": {},
     "source": [
      "Hamiltonian is the same for both particles so we use the tensor to form $\\hat{H}$ from individual operators"
     ]
    },
    {
     "cell_type": "code",
     "collapsed": false,
     "input": [
      "omega = 5\n",
      "H = -omega*tensor(Sz,Sz)"
     ],
     "language": "python",
     "metadata": {},
     "outputs": [],
     "prompt_number": 10
    },
    {
     "cell_type": "code",
     "collapsed": false,
     "input": [
      "result3 = sesolve(H, psi, t, tensor(pz,mz)*tensor(pz,mz).dag())"
     ],
     "language": "python",
     "metadata": {},
     "outputs": [],
     "prompt_number": 11
    },
    {
     "cell_type": "code",
     "collapsed": false,
     "input": [
      "plot(result3.times,result3.expect[0])"
     ],
     "language": "python",
     "metadata": {},
     "outputs": [
      {
       "metadata": {},
       "output_type": "pyout",
       "prompt_number": 12,
       "text": [
        "[<matplotlib.lines.Line2D at 0x10ac58850>]"
       ]
      }
     ],
     "prompt_number": 12
    },
    {
     "cell_type": "markdown",
     "metadata": {},
     "source": [
      "The value is constant since the state is initially in an eigenstate of $\\hat{H}$."
     ]
    },
    {
     "cell_type": "markdown",
     "metadata": {},
     "source": [
      "##What if the magnetic field is not along an axis?"
     ]
    },
    {
     "cell_type": "markdown",
     "metadata": {},
     "source": [
      "Notice the Hamiltonian has an $x$ and a $z$ component:"
     ]
    },
    {
     "cell_type": "code",
     "collapsed": false,
     "input": [
      "omega=2\n",
      "H = -omega*(Sz + Sx)\n",
      "t = arange(0,2*pi/omega,0.05)"
     ],
     "language": "python",
     "metadata": {},
     "outputs": [],
     "prompt_number": 13
    },
    {
     "cell_type": "code",
     "collapsed": false,
     "input": [
      "result4 = sesolve(H, px, t, [Sx, Sy, Sz])"
     ],
     "language": "python",
     "metadata": {},
     "outputs": [],
     "prompt_number": 14
    },
    {
     "cell_type": "code",
     "collapsed": false,
     "input": [
      "for r in result4.expect:\n",
      "    plot(result4.times*omega/pi, r)"
     ],
     "language": "python",
     "metadata": {},
     "outputs": [],
     "prompt_number": 15
    },
    {
     "cell_type": "markdown",
     "metadata": {},
     "source": [
      "Harder to interpret (visualize), so we'll use the Bloch sphere:"
     ]
    },
    {
     "cell_type": "code",
     "collapsed": false,
     "input": [
      "sx, sy, sz = result4.expect"
     ],
     "language": "python",
     "metadata": {},
     "outputs": [],
     "prompt_number": 16
    },
    {
     "cell_type": "code",
     "collapsed": false,
     "input": [
      "b = Bloch()\n",
      "b.add_points([sx,sy,sz])\n",
      "b.zlabel = ['$\\\\left|+z\\\\right>$', '$\\\\left|-z\\\\right>$']\n",
      "b.show()"
     ],
     "language": "python",
     "metadata": {},
     "outputs": [],
     "prompt_number": 17
    },
    {
     "cell_type": "markdown",
     "metadata": {},
     "source": [
      "Click and drag the image to rotate it. Now we can interpret the dynamics as precession around the magnetic field."
     ]
    },
    {
     "cell_type": "markdown",
     "metadata": {},
     "source": [
      "## Time-dependent Hamiltonian:\n",
      "We'll explore the parameters of a spin in a time-varying magnetic field. This system is relevant to nuclear magnetic resonance (NMR) which is used in chemistry and as Magnetic Resonance Imaging (MRI) in medicine.\n",
      "\n",
      "Following Compliment 9.A the Hamiltonian is:\n",
      "$$\\hat{H}= - \\Omega_0 \\hat{S}_z - \\Omega_1 cos(\\omega t)\\hat{S}_x$$\n",
      "We then solve for a certain amount of time after the state starts in $|\\psi(0)\\rangle = |+z\\rangle$\n",
      "\n",
      "We also use the definition of the Rabi frequency: $\\Omega_R = \\sqrt{(\\omega - \\Omega_0)^2 + (\\Omega_1/2)^2}$ as in (9.A.28)\n",
      "\n",
      "Note that the time span is 3 units of $\\frac{2\\pi}{\\Omega_R}$. Leave the scaling in place, but to plot a longer time period, change 3.0 to something larger. This lets us match the units in Fig. 9.A.1."
     ]
    },
    {
     "cell_type": "code",
     "collapsed": false,
     "input": [
      "omega0 = 2.0 * 2 * pi   # pick a nice value for a frequency, note this is 1 Hz\n",
      "omega1 = 0.25 * 2 * pi  # 25% of omega0\n",
      "w = 2.0 * 2 * pi        # the driving frequency\n",
      "\n",
      "H0 = - omega0 * Sz      # the first term in H\n",
      "H1 = - omega1 * Sx      # the second term in H\n",
      "\n",
      "omegaR = sqrt((w - omega0)**2 + (omega1/2.0)**2)\n",
      "t = arange(0,3.0 * 2 * pi / omegaR,0.05)   # scale the time by omegaR, plot 3 units of 2pi/omegaR\n",
      "\n",
      "args = [H0, H1, w]      # parts of the Hamiltonian \n",
      "def H_t(t, args):       # this function calculates H at each time step t\n",
      "    H0 = args[0]\n",
      "    H1 = args[1]\n",
      "    w  = args[2]\n",
      "    return H0 + cos(w * t) * H1"
     ],
     "language": "python",
     "metadata": {},
     "outputs": [],
     "prompt_number": 45
    },
    {
     "cell_type": "markdown",
     "metadata": {},
     "source": [
      "The next line calls a Schr\u00f6dinger equation solver (sesolve). It's arguments are the Hamiltonian, the starting state (pz), the time values, a list of operators, and the arguments to the function H_t. `sesolve` returns many things, but the `expect` method is most useful, it gives the expectation values of the four operators in the operator list. Notice the fourth operator is the mz projection operator. It's expectation value is $P(|-z\\rangle,t)$"
     ]
    },
    {
     "cell_type": "code",
     "collapsed": false,
     "input": [
      "result5 = sesolve(H_t, pz, t, [Sx, Sy, Sz, mz*mz.dag()],args)\n",
      "sx, sy, sz, Pz = result5.expect"
     ],
     "language": "python",
     "metadata": {},
     "outputs": [],
     "prompt_number": 46
    },
    {
     "cell_type": "markdown",
     "metadata": {},
     "source": [
      "Look at the Bloch sphere for this system:"
     ]
    },
    {
     "cell_type": "code",
     "collapsed": false,
     "input": [
      "b = Bloch()\n",
      "b.add_points([sx,sy,sz])\n",
      "b.show()"
     ],
     "language": "python",
     "metadata": {},
     "outputs": [],
     "prompt_number": 44
    },
    {
     "cell_type": "markdown",
     "metadata": {},
     "source": [
      "Make a plot analogous to Fig 9.A.1:"
     ]
    },
    {
     "cell_type": "code",
     "collapsed": false,
     "input": [
      "plot(result5.times*omegaR/pi,Pz)"
     ],
     "language": "python",
     "metadata": {},
     "outputs": [
      {
       "metadata": {},
       "output_type": "pyout",
       "prompt_number": 47,
       "text": [
        "[<matplotlib.lines.Line2D at 0x109432650>]"
       ]
      }
     ],
     "prompt_number": 47
    },
    {
     "cell_type": "markdown",
     "metadata": {},
     "source": [
      "###Q) What happens in each unit of time ($\\frac{2\\pi}{\\Omega_R}$)? Look at the plot of $P(-z,t)$ to interpret this. How is your figure different from the on in Fig. 9.A.1?"
     ]
    },
    {
     "cell_type": "markdown",
     "metadata": {},
     "source": [
      "### Q) How does the evolution change if you double $\\Omega_0$?"
     ]
    },
    {
     "cell_type": "markdown",
     "metadata": {},
     "source": [
      "###Q) After doubling $\\Omega_0$ what if you double the driving frequency ($\\omega$) also? Interpret this observation in terms of Fig. 9.A.2. In practice, what experimental parameter changes $\\Omega_0$?"
     ]
    },
    {
     "cell_type": "markdown",
     "metadata": {},
     "source": [
      "###Q) How does $\\Omega_1$ influence the dynamics? (Be careful reading the plots since the units are scaled by $\\Omega_R$)."
     ]
    },
    {
     "cell_type": "markdown",
     "metadata": {},
     "source": [
      "### Challenge: change the Hamiltonian so the applied field turns off at a certain time, can you get the spin to stay in a particular state?"
     ]
    },
    {
     "cell_type": "code",
     "collapsed": false,
     "input": [
      "omega0 = 1.0 * 2 * pi   # pick a nice value for a frequency, note this is 1 Hz\n",
      "omega1 = 0.05 * 2 * pi  # 25% of omega0\n",
      "w = 1.0 * 2 * pi        # the driving frequency\n",
      "\n",
      "H0 = - omega0 * Sz      # the first term in H\n",
      "H1 = - omega1 * Sx      # the second term in H\n",
      "\n",
      "omegaR = sqrt((w - omega0)**2 + (omega1/2.0)**2)\n",
      "t = arange(0,3.0 * 2 * pi / omegaR,0.05)   # scale the time by omegaR, plot 3 units of 2pi/omegaR\n",
      "\n",
      "args = [H0, H1, w]      # parts of the Hamiltonian \n",
      "def H_t(t, args):       # this function calculates H at each time step t\n",
      "    H0 = args[0]\n",
      "    if t < 2*pi/omegaR * 0.5:\n",
      "        H1 = args[1]\n",
      "    else:\n",
      "        H1 = 0\n",
      "    w  = args[2]\n",
      "    return H0 + cos(w * t) * H1"
     ],
     "language": "python",
     "metadata": {},
     "outputs": [],
     "prompt_number": 307
    },
    {
     "cell_type": "code",
     "collapsed": false,
     "input": [
      "result6 = sesolve(H_t, pz, t, [Sx, Sy, Sz, mz*mz.dag()],args)\n",
      "sx, sy, sz, Pz = result6.expect"
     ],
     "language": "python",
     "metadata": {},
     "outputs": [],
     "prompt_number": 308
    },
    {
     "cell_type": "code",
     "collapsed": false,
     "input": [
      "plot(result6.times,Pz)"
     ],
     "language": "python",
     "metadata": {},
     "outputs": [
      {
       "metadata": {},
       "output_type": "pyout",
       "prompt_number": 310,
       "text": [
        "[<matplotlib.lines.Line2D at 0x10f0c0a90>]"
       ]
      }
     ],
     "prompt_number": 310
    },
    {
     "cell_type": "code",
     "collapsed": false,
     "input": [],
     "language": "python",
     "metadata": {},
     "outputs": []
    }
   ],
   "metadata": {}
  }
 ]
}