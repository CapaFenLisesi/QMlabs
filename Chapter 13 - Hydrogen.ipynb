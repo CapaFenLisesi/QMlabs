{
 "metadata": {
  "name": "",
  "signature": "sha256:b6ef06fd9c0b1542da0507d7ba1695d1e60dd262e2a43b2bae9f15e5310841ed"
 },
 "nbformat": 3,
 "nbformat_minor": 0,
 "worksheets": [
  {
   "cells": [
    {
     "cell_type": "markdown",
     "metadata": {},
     "source": [
      "#Hydrogen functions\n",
      "Start with some imports fro Symbolic Python library:"
     ]
    },
    {
     "cell_type": "code",
     "collapsed": false,
     "input": [
      "from sympy.physics.hydrogen import R_nl\n",
      "from sympy.functions.special.spherical_harmonics import Ynm\n",
      "from sympy import *"
     ],
     "language": "python",
     "metadata": {},
     "outputs": [],
     "prompt_number": 1
    },
    {
     "cell_type": "markdown",
     "metadata": {},
     "source": [
      "Define some variables, radial, polar, azimuthal, time, and two frequencies:"
     ]
    },
    {
     "cell_type": "code",
     "collapsed": false,
     "input": [
      "var(\"r theta phi t w1 w2\")"
     ],
     "language": "python",
     "metadata": {},
     "outputs": [
      {
       "metadata": {},
       "output_type": "pyout",
       "prompt_number": 2,
       "text": [
        "(r, theta, phi, t, w1, w2)"
       ]
      }
     ],
     "prompt_number": 2
    },
    {
     "cell_type": "markdown",
     "metadata": {},
     "source": [
      "## Look at a few of the radial equations and the spherical harmonics\n",
      "Notice that instead of Ylm the name is Ynm... the arguments to the function are still the quantum numbers `l` and `m`"
     ]
    },
    {
     "cell_type": "code",
     "collapsed": false,
     "input": [
      "R_nl(1, 0, r, 1)  # the n = 1, l = 0 radial function"
     ],
     "language": "python",
     "metadata": {},
     "outputs": [
      {
       "metadata": {},
       "output_type": "pyout",
       "prompt_number": 3,
       "text": [
        "2*exp(-r)"
       ]
      }
     ],
     "prompt_number": 3
    },
    {
     "cell_type": "code",
     "collapsed": false,
     "input": [
      "Ynm(1,0,theta,phi).expand(func=True)  # the l = 0, m = 0 spherical harmonic"
     ],
     "language": "python",
     "metadata": {},
     "outputs": [
      {
       "metadata": {},
       "output_type": "pyout",
       "prompt_number": 4,
       "text": [
        "sqrt(3)*cos(theta)/(2*sqrt(pi))"
       ]
      }
     ],
     "prompt_number": 4
    },
    {
     "cell_type": "markdown",
     "metadata": {},
     "source": [
      "Write the equation for the $|100\\rangle$ state. Use the `.expand(func=True)` to convert to the actual expression:"
     ]
    },
    {
     "cell_type": "code",
     "collapsed": false,
     "input": [
      "psi100 = R_nl(1, 0, r, 1)*Ynm(0,0,theta,phi).expand(func=True)"
     ],
     "language": "python",
     "metadata": {},
     "outputs": [],
     "prompt_number": 5
    },
    {
     "cell_type": "code",
     "collapsed": false,
     "input": [
      "psi100  # check to see how it looks"
     ],
     "language": "python",
     "metadata": {},
     "outputs": [
      {
       "metadata": {},
       "output_type": "pyout",
       "prompt_number": 6,
       "text": [
        "exp(-r)/sqrt(pi)"
       ]
      }
     ],
     "prompt_number": 6
    },
    {
     "cell_type": "markdown",
     "metadata": {},
     "source": [
      "##Integrate over all space\n",
      "Remember spherical coordinate integrals need to have an `r**2*sin(theta)` term and integrate theta from $0-\\pi$ and phi from $0-2\\pi$:"
     ]
    },
    {
     "cell_type": "code",
     "collapsed": false,
     "input": [
      "integrate(r**2*sin(theta)*(psi100)**2,(r,0,oo),(theta,0,pi),(phi,0,2*pi))"
     ],
     "language": "python",
     "metadata": {},
     "outputs": [
      {
       "metadata": {},
       "output_type": "pyout",
       "prompt_number": 7,
       "text": [
        "1"
       ]
      }
     ],
     "prompt_number": 7
    },
    {
     "cell_type": "code",
     "collapsed": false,
     "input": [
      "psi210 = R_nl(2, 1, r, 1)*Ynm(1,0,theta,phi).expand(func=True)"
     ],
     "language": "python",
     "metadata": {},
     "outputs": [],
     "prompt_number": 8
    },
    {
     "cell_type": "code",
     "collapsed": false,
     "input": [
      "psi210  # check how it looks"
     ],
     "language": "python",
     "metadata": {},
     "outputs": [
      {
       "metadata": {},
       "output_type": "pyout",
       "prompt_number": 9,
       "text": [
        "sqrt(2)*r*exp(-r/2)*cos(theta)/(8*sqrt(pi))"
       ]
      }
     ],
     "prompt_number": 9
    },
    {
     "cell_type": "markdown",
     "metadata": {},
     "source": [
      "If you compare these to listed solutions (for example at http://hyperphysics.phy-astr.gsu.edu/hbase/quantum/hydwf.html#c3) you see that there are not any factors of a_0. This is because the R_nl function is defined in units of a_0. a_0 is the Bohr Radius: http://en.wikipedia.org/wiki/Bohr_radius"
     ]
    },
    {
     "cell_type": "markdown",
     "metadata": {},
     "source": [
      "## Now calculate some expectation values:\n",
      "To calculate $\\langle z \\rangle$ we need to convert to spherical coordinates: $z = r\\cos\\theta$. The terms in the following integral are the $r^2\\sin\\theta$ then $z$ (in spherical coords) then the wave function squared."
     ]
    },
    {
     "cell_type": "code",
     "collapsed": false,
     "input": [
      "expect = integrate(r**2*sin(theta)* (r*cos(theta)) * (psi100*psi100),(r,0,oo),(theta,0,pi),(phi,0,2*pi))"
     ],
     "language": "python",
     "metadata": {},
     "outputs": [],
     "prompt_number": 10
    },
    {
     "cell_type": "code",
     "collapsed": false,
     "input": [
      "expect"
     ],
     "language": "python",
     "metadata": {},
     "outputs": [
      {
       "metadata": {},
       "output_type": "pyout",
       "prompt_number": 11,
       "text": [
        "0"
       ]
      }
     ],
     "prompt_number": 11
    },
    {
     "cell_type": "markdown",
     "metadata": {},
     "source": [
      "No surprise, the average z position of the electron in the hydrogen atom is 0."
     ]
    },
    {
     "cell_type": "markdown",
     "metadata": {},
     "source": [
      "## Now for problem 13.21\n",
      "find $\\langle z \\rangle(t)$. Use the same integral, but add a time-dependent piece to each one, add them together and multiply by the complex conjugate."
     ]
    },
    {
     "cell_type": "code",
     "collapsed": false,
     "input": [
      "expect2 = integrate(r**2*sin(theta)* (r*cos(theta)) * (psi100*exp(1j*w1*t) + psi210*exp(1j*w2*t))*(psi100*exp(-1j*w1*t) + psi210*exp(-1j*w2*t)),(r,0,oo),(theta,0,pi),(phi,0,2*pi))"
     ],
     "language": "python",
     "metadata": {},
     "outputs": [],
     "prompt_number": 12
    },
    {
     "cell_type": "code",
     "collapsed": false,
     "input": [
      "expect2"
     ],
     "language": "python",
     "metadata": {},
     "outputs": [
      {
       "metadata": {},
       "output_type": "pyout",
       "prompt_number": 13,
       "text": [
        "2*pi*(64*sqrt(2)*exp(-1.0*I*t*w1)*exp(1.0*I*t*w2)/(243*pi) + 64*sqrt(2)*exp(1.0*I*t*w1)*exp(-1.0*I*t*w2)/(243*pi))"
       ]
      }
     ],
     "prompt_number": 13
    },
    {
     "cell_type": "markdown",
     "metadata": {},
     "source": [
      "Explore some of the other combinations of states and draw conclusions about the z behavior from the results. You may not be able to get these expressions to simplify, but you can do it by hand without too much trouble."
     ]
    },
    {
     "cell_type": "markdown",
     "metadata": {},
     "source": [
      "- What is true for $\\langle z \\rangle$ for any combinations of Hydrogen states with different n quantum numbers?\n",
      "- What are the relavant frequencies in $\\langle z \\rangle$ and why?\n",
      "- Simplify one of your $\\langle z \\rangle$ expressions and write it in terms of w2-w1."
     ]
    },
    {
     "cell_type": "code",
     "collapsed": false,
     "input": [],
     "language": "python",
     "metadata": {},
     "outputs": []
    }
   ],
   "metadata": {}
  }
 ]
}