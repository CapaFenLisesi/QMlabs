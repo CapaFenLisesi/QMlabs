{
 "metadata": {
  "name": ""
 },
 "nbformat": 3,
 "nbformat_minor": 0,
 "worksheets": [
  {
   "cells": [
    {
     "cell_type": "markdown",
     "metadata": {},
     "source": [
      "# Minilab - experiments in chapter 3"
     ]
    },
    {
     "cell_type": "code",
     "collapsed": false,
     "input": [
      "%pylab\n",
      "from qutip import *"
     ],
     "language": "python",
     "metadata": {},
     "outputs": [
      {
       "output_type": "stream",
       "stream": "stdout",
       "text": [
        "Using matplotlib backend: MacOSX\n",
        "Populating the interactive namespace from numpy and matplotlib\n"
       ]
      }
     ],
     "prompt_number": 1
    },
    {
     "cell_type": "markdown",
     "metadata": {},
     "source": [
      "These are the polarization states:"
     ]
    },
    {
     "cell_type": "code",
     "collapsed": false,
     "input": [
      "H = Qobj([[1],[0]])\n",
      "V = Qobj([[0],[1]])\n",
      "P45 = Qobj([[1/sqrt(2)],[1/sqrt(2)]])\n",
      "M45 = Qobj([[1/sqrt(2)],[-1/sqrt(2)]])\n",
      "R = Qobj([[1/sqrt(2)],[-1j/sqrt(2)]])\n",
      "L = Qobj([[1/sqrt(2)],[1j/sqrt(2)]])"
     ],
     "language": "python",
     "metadata": {},
     "outputs": [],
     "prompt_number": 2
    },
    {
     "cell_type": "markdown",
     "metadata": {},
     "source": [
      "Devices:\n",
      "\n",
      "HWP - Half-wave plate axis at $\\theta$ to the horizontal\n",
      "\n",
      "LP - Linear polarizer, axis at $\\theta$\n",
      "\n",
      "QWP - Quarter-wave plate, axis at $\\theta$\n",
      "\n",
      "Note, these are functions so you need to call them with a specific value of theta."
     ]
    },
    {
     "cell_type": "code",
     "collapsed": false,
     "input": [
      "def HWP(theta):\n",
      "    return Qobj([[cos(2*theta),sin(2*theta)],[sin(2*theta),-cos(2*theta)]]).tidyup()"
     ],
     "language": "python",
     "metadata": {},
     "outputs": [],
     "prompt_number": 3
    },
    {
     "cell_type": "code",
     "collapsed": false,
     "input": [
      "def LP(theta):\n",
      "    return Qobj([[cos(theta)**2,cos(theta)*sin(theta)],[sin(theta)*cos(theta),sin(theta)**2]]).tidyup()"
     ],
     "language": "python",
     "metadata": {},
     "outputs": [],
     "prompt_number": 4
    },
    {
     "cell_type": "code",
     "collapsed": false,
     "input": [
      "def QWP(theta):\n",
      "    return Qobj([[cos(theta)**2 + 1j*sin(theta)**2,\n",
      "                 (1-1j)*sin(theta)*cos(theta)],\n",
      "                [(1-1j)*sin(theta)*cos(theta),\n",
      "                 sin(theta)**2 + 1j*cos(theta)**2]]).tidyup()"
     ],
     "language": "python",
     "metadata": {},
     "outputs": [],
     "prompt_number": 5
    },
    {
     "cell_type": "markdown",
     "metadata": {},
     "source": [
      "## Experiment 3"
     ]
    },
    {
     "cell_type": "code",
     "collapsed": false,
     "input": [
      "(P45.dag()*V).norm()**2"
     ],
     "language": "python",
     "metadata": {},
     "outputs": [
      {
       "metadata": {},
       "output_type": "pyout",
       "prompt_number": 13,
       "text": [
        "0.49999999999999989"
       ]
      }
     ],
     "prompt_number": 13
    },
    {
     "cell_type": "code",
     "collapsed": false,
     "input": [
      "(M45.dag()*V).norm()**2"
     ],
     "language": "python",
     "metadata": {},
     "outputs": [
      {
       "metadata": {},
       "output_type": "pyout",
       "prompt_number": 14,
       "text": [
        "0.49999999999999989"
       ]
      }
     ],
     "prompt_number": 14
    },
    {
     "cell_type": "code",
     "collapsed": false,
     "input": [],
     "language": "python",
     "metadata": {},
     "outputs": []
    }
   ],
   "metadata": {}
  }
 ]
}