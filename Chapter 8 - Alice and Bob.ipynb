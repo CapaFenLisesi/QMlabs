{
 "metadata": {
  "name": ""
 },
 "nbformat": 3,
 "nbformat_minor": 0,
 "worksheets": [
  {
   "cells": [
    {
     "cell_type": "markdown",
     "metadata": {},
     "source": [
      "#Chapter 8 - Alice and Bob\n",
      "First define the projection operator for a state at angle $\\theta$"
     ]
    },
    {
     "cell_type": "code",
     "collapsed": false,
     "input": [
      "%pylab inline\n",
      "from qutip import *"
     ],
     "language": "python",
     "metadata": {},
     "outputs": [
      {
       "output_type": "stream",
       "stream": "stdout",
       "text": [
        "Populating the interactive namespace from numpy and matplotlib\n"
       ]
      }
     ],
     "prompt_number": 1
    },
    {
     "cell_type": "code",
     "collapsed": false,
     "input": [
      "H = Qobj([[1],[0]])\n",
      "V = Qobj([[0],[1]])"
     ],
     "language": "python",
     "metadata": {},
     "outputs": [],
     "prompt_number": 137
    },
    {
     "cell_type": "code",
     "collapsed": false,
     "input": [
      "def P(theta):\n",
      "    theta_ket = cos(theta)*H + sin(theta)*V\n",
      "    return theta_ket*theta_ket.dag()"
     ],
     "language": "python",
     "metadata": {},
     "outputs": [],
     "prompt_number": 138
    },
    {
     "cell_type": "markdown",
     "metadata": {},
     "source": [
      "Create the projection operators for each of the angles, two for Alice, two for Bob"
     ]
    },
    {
     "cell_type": "code",
     "collapsed": false,
     "input": [
      "Pa1 = P(deg2rad(19))\n",
      "Pa2 = P(deg2rad(-35))\n",
      "Pb1 = P(deg2rad(-19))\n",
      "Pb2 = P(deg2rad(35))"
     ],
     "language": "python",
     "metadata": {},
     "outputs": [],
     "prompt_number": 215
    },
    {
     "cell_type": "markdown",
     "metadata": {},
     "source": [
      "Create the state $|\\psi\\rangle$:"
     ]
    },
    {
     "cell_type": "code",
     "collapsed": false,
     "input": [
      "psi=sqrt(0.2)*tensor(H,H) + sqrt(0.8)*tensor(V,V)"
     ],
     "language": "python",
     "metadata": {},
     "outputs": [],
     "prompt_number": 216
    },
    {
     "cell_type": "markdown",
     "metadata": {},
     "source": [
      "Now, find the joint probability that Alice measures A1 and Bob measures B1. We do this by finding the expectation value of the projection operator for the joint state $|\\theta_{A1},\\theta_{B1}\\rangle$. This is formed as the tensor product of the two appropriate projection operators. In these tensor products, be sure to put Alice's operator first, then Bobs (just like we did for the signal and idler photons). Each operator acts on the photon corresponding to the order in the `tensor()` function."
     ]
    },
    {
     "cell_type": "code",
     "collapsed": false,
     "input": [
      "psi.dag()*tensor(Pa1,Pb1)*psi  # joint for A1, B1 (expect 0.09)"
     ],
     "language": "python",
     "metadata": {},
     "outputs": [
      {
       "latex": [
        "\\begin{equation}\\text{Quantum object: dims = [[1, 1], [1, 1]], shape = [1, 1], type = oper, isHerm = True}\\\\[1em]\\begin{pmatrix}0.0930292004279\\\\\\end{pmatrix}\\end{equation}"
       ],
       "metadata": {},
       "output_type": "pyout",
       "prompt_number": 217,
       "text": [
        "Quantum object: dims = [[1, 1], [1, 1]], shape = [1, 1], type = oper, isherm = True\n",
        "Qobj data =\n",
        "[[ 0.0930292]]"
       ]
      }
     ],
     "prompt_number": 217
    },
    {
     "cell_type": "markdown",
     "metadata": {},
     "source": [
      "Find the conditional probability $P(\\theta_{B2}|\\theta_{A1})$"
     ]
    },
    {
     "cell_type": "code",
     "collapsed": false,
     "input": [
      "(psi.dag()*tensor(Pa1,Pb2)*psi).data[0,0] / (psi.dag()*tensor(Pa1,qeye(2))*psi).data[0,0]  # B2 conditioned on A1 (expect 1)"
     ],
     "language": "python",
     "metadata": {},
     "outputs": [
      {
       "metadata": {},
       "output_type": "pyout",
       "prompt_number": 218,
       "text": [
        "(0.99993925691205587+0j)"
       ]
      }
     ],
     "prompt_number": 218
    },
    {
     "cell_type": "markdown",
     "metadata": {},
     "source": [
      "Find the conditional probability $P(\\theta_{A2}|\\theta_{B1})$"
     ]
    },
    {
     "cell_type": "code",
     "collapsed": false,
     "input": [
      "(psi.dag()*tensor(Pa2,Pb1)*psi).data[0,0] / (psi.dag()*tensor(qeye(2),Pb1)*psi).data[0,0]  # A2 conditioned on B1 (expect 1)"
     ],
     "language": "python",
     "metadata": {},
     "outputs": [
      {
       "metadata": {},
       "output_type": "pyout",
       "prompt_number": 219,
       "text": [
        "(0.99993925691205587+0j)"
       ]
      }
     ],
     "prompt_number": 219
    },
    {
     "cell_type": "code",
     "collapsed": false,
     "input": [
      "(psi.dag()*tensor(Pa2,Pb2)*psi)  # joint for A2, B2 (classically expect 0.09, QM says 0)"
     ],
     "language": "python",
     "metadata": {},
     "outputs": [
      {
       "latex": [
        "\\begin{equation}\\text{Quantum object: dims = [[1, 1], [1, 1]], shape = [1, 1], type = oper, isHerm = True}\\\\[1em]\\begin{pmatrix}3.39573005293e-05\\\\\\end{pmatrix}\\end{equation}"
       ],
       "metadata": {},
       "output_type": "pyout",
       "prompt_number": 220,
       "text": [
        "Quantum object: dims = [[1, 1], [1, 1]], shape = [1, 1], type = oper, isherm = True\n",
        "Qobj data =\n",
        "[[  3.39573005e-05]]"
       ]
      }
     ],
     "prompt_number": 220
    },
    {
     "cell_type": "markdown",
     "metadata": {},
     "source": [
      "## Explore the angles in more detail:\n",
      "Why these angles, 19 and 35?"
     ]
    },
    {
     "cell_type": "code",
     "collapsed": false,
     "input": [
      "angles = arange(1,90,1)"
     ],
     "language": "python",
     "metadata": {},
     "outputs": [],
     "prompt_number": 237
    },
    {
     "cell_type": "code",
     "collapsed": false,
     "input": [
      "rads = deg2rad(angles)"
     ],
     "language": "python",
     "metadata": {},
     "outputs": [],
     "prompt_number": 238
    },
    {
     "cell_type": "markdown",
     "metadata": {},
     "source": [
      "Make a list of the probability of joint measurements for a pair of angles:"
     ]
    },
    {
     "cell_type": "code",
     "collapsed": false,
     "input": [
      "out = []\n",
      "for r in rads:\n",
      "    out.append((psi.dag()*tensor(P(-r),P(r))*psi).data[0,0])"
     ],
     "language": "python",
     "metadata": {},
     "outputs": [],
     "prompt_number": 239
    },
    {
     "cell_type": "code",
     "collapsed": false,
     "input": [
      "plot(angles,out,\".\") # plot in units of pi"
     ],
     "language": "python",
     "metadata": {},
     "outputs": [
      {
       "metadata": {},
       "output_type": "pyout",
       "prompt_number": 240,
       "text": [
        "[<matplotlib.lines.Line2D at 0x109673090>]"
       ]
      },
      {
       "metadata": {},
       "output_type": "display_data",
       "png": "[encoded data removed]",
       "text": [
        "<matplotlib.figure.Figure at 0x1091a7d50>"
       ]
      }
     ],
     "prompt_number": 240
    },
    {
     "cell_type": "markdown",
     "metadata": {},
     "source": [
      "We see that the joint probabilities have a zero at 35\u02da. Now plug that in to one of the conditional probabilities and see what angle for the conditional probability gives 1:"
     ]
    },
    {
     "cell_type": "code",
     "collapsed": false,
     "input": [
      "out = []\n",
      "for r in rads:\n",
      "    out.append((psi.dag()*tensor(P(r),P(deg2rad(35)))*psi).data[0,0] / (psi.dag()*tensor(P(r),qeye(2))*psi).data[0,0])"
     ],
     "language": "python",
     "metadata": {},
     "outputs": [],
     "prompt_number": 249
    },
    {
     "cell_type": "code",
     "collapsed": false,
     "input": [
      "plot(angles,out,\".\")"
     ],
     "language": "python",
     "metadata": {},
     "outputs": [
      {
       "metadata": {},
       "output_type": "pyout",
       "prompt_number": 250,
       "text": [
        "[<matplotlib.lines.Line2D at 0x109d1f550>]"
       ]
      },
      {
       "metadata": {},
       "output_type": "display_data",
       "png": "[encoded data removed]",
       "text": [
        "<matplotlib.figure.Figure at 0x109b90dd0>"
       ]
      }
     ],
     "prompt_number": 250
    },
    {
     "cell_type": "markdown",
     "metadata": {},
     "source": [
      "So only 19 and 35 work. Now, can you derive 19 and 35 given only the state $|\\psi\\rangle$?"
     ]
    },
    {
     "cell_type": "code",
     "collapsed": false,
     "input": [],
     "language": "python",
     "metadata": {},
     "outputs": []
    }
   ],
   "metadata": {}
  }
 ]
}