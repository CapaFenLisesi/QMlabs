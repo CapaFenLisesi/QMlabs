{
 "metadata": {
  "name": ""
 },
 "nbformat": 3,
 "nbformat_minor": 0,
 "worksheets": [
  {
   "cells": [
    {
     "cell_type": "markdown",
     "metadata": {},
     "source": [
      "#Chapter 4 in-class problems\n",
      "##Using what you learned in Lab, answer questions 4.7, 4.8, 4.10, 4.11, 4.12, and 4.13"
     ]
    },
    {
     "cell_type": "code",
     "collapsed": false,
     "input": [
      "%pylab inline\n",
      "from qutip import *"
     ],
     "language": "python",
     "metadata": {},
     "outputs": [
      {
       "output_type": "stream",
       "stream": "stdout",
       "text": [
        "Populating the interactive namespace from numpy and matplotlib\n"
       ]
      }
     ],
     "prompt_number": 5
    },
    {
     "cell_type": "markdown",
     "metadata": {},
     "source": [
      "### Remember, these states are represented in the HV basis:"
     ]
    },
    {
     "cell_type": "code",
     "collapsed": false,
     "input": [
      "H = Qobj([[1],[0]])\n",
      "V = Qobj([[0],[1]])\n",
      "P45 = Qobj([[1/sqrt(2)],[1/sqrt(2)]])\n",
      "M45 = Qobj([[1/sqrt(2)],[-1/sqrt(2)]])\n",
      "R = Qobj([[1/sqrt(2)],[-1j/sqrt(2)]])\n",
      "L = Qobj([[1/sqrt(2)],[1j/sqrt(2)]])"
     ],
     "language": "python",
     "metadata": {},
     "outputs": [],
     "prompt_number": 6
    },
    {
     "cell_type": "markdown",
     "metadata": {},
     "source": [
      "The sim_transform function creates the matrix $\\bar{\\mathbf{S}}$ that can convert from one basis to another. As an example, it will create the tranform matrix to convert from HV to \u00b145 if you run:\n",
      "\n",
      "    Shv45 = sim_transform(H,V,P45,M45)    #  creates the matrix Shv45\n",
      "    \n",
      "Then you can convert a ket from HV to \u00b145 by applying the Shv45 matrix:\n",
      "\n",
      "    Shv45*H    #  will convert H from the HV basis to the \u00b145 basis\n",
      "    \n",
      "To convert operators, you have to sandwich the operator between $\\bar{\\mathbf{S}}$ and $\\bar{\\mathbf{S}}^\\dagger$:\n",
      "\n",
      "    Shv45*Ph*Shv45.dag()     #  converts Ph from HV basis to the \u00b145 basis."
     ]
    },
    {
     "cell_type": "code",
     "collapsed": false,
     "input": [
      "def sim_transform(o_basis1, o_basis2, n_basis1, n_basis2):\n",
      "    a = n_basis1.dag()*o_basis1\n",
      "    b = n_basis1.dag()*o_basis2\n",
      "    c = n_basis2.dag()*o_basis1\n",
      "    d = n_basis2.dag()*o_basis2\n",
      "    return Qobj([[a.data[0,0],b.data[0,0]],[c.data[0,0],d.data[0,0]]])"
     ],
     "language": "python",
     "metadata": {},
     "outputs": [],
     "prompt_number": 7
    },
    {
     "cell_type": "markdown",
     "metadata": {},
     "source": [
      "4.11: Express $\\hat{R}_p(\\theta)$ in \u00b145 basis"
     ]
    },
    {
     "cell_type": "code",
     "collapsed": false,
     "input": [
      "def Rp(theta):\n",
      "    return Qobj([[cos(theta),-sin(theta)],[sin(theta),cos(theta)]]).tidyup()"
     ],
     "language": "python",
     "metadata": {},
     "outputs": [],
     "prompt_number": 15
    },
    {
     "cell_type": "code",
     "collapsed": false,
     "input": [
      "Shv45 = sim_transform(H,V,P45,M45)"
     ],
     "language": "python",
     "metadata": {},
     "outputs": [],
     "prompt_number": 16
    },
    {
     "cell_type": "markdown",
     "metadata": {},
     "source": [
      "4.12: "
     ]
    },
    {
     "cell_type": "code",
     "collapsed": false,
     "input": [
      "Rp45 = Shv45*Rp(pi/4)*Shv45.dag()"
     ],
     "language": "python",
     "metadata": {},
     "outputs": [],
     "prompt_number": 17
    },
    {
     "cell_type": "code",
     "collapsed": false,
     "input": [
      "Rp45*Shv45*P45 == Shv45*V   # convert P45 to the \u00b145 basis"
     ],
     "language": "python",
     "metadata": {},
     "outputs": [
      {
       "metadata": {},
       "output_type": "pyout",
       "prompt_number": 20,
       "text": [
        "True"
       ]
      }
     ],
     "prompt_number": 20
    },
    {
     "cell_type": "code",
     "collapsed": false,
     "input": [
      "Rp45* Qobj([[1],[0]])"
     ],
     "language": "python",
     "metadata": {},
     "outputs": [
      {
       "latex": [
        "\\begin{equation}\\text{Quantum object: dims = [[2], [1]], shape = [2, 1], type = ket}\\\\[1em]\\begin{pmatrix}0.707106781187\\\\-0.707106781187\\\\\\end{pmatrix}\\end{equation}"
       ],
       "metadata": {},
       "output_type": "pyout",
       "prompt_number": 19,
       "text": [
        "Quantum object: dims = [[2], [1]], shape = [2, 1], type = ket\n",
        "Qobj data =\n",
        "[[ 0.70710678]\n",
        " [-0.70710678]]"
       ]
      }
     ],
     "prompt_number": 19
    },
    {
     "cell_type": "code",
     "collapsed": false,
     "input": [
      "ShvLR = sim_transform(H,V,L,R)"
     ],
     "language": "python",
     "metadata": {},
     "outputs": [],
     "prompt_number": 21
    },
    {
     "cell_type": "code",
     "collapsed": false,
     "input": [
      "ShvLR*Rp(pi/4)*ShvLR.dag()"
     ],
     "language": "python",
     "metadata": {},
     "outputs": [
      {
       "latex": [
        "\\begin{equation}\\text{Quantum object: dims = [[2], [2]], shape = [2, 2], type = oper, isHerm = False}\\\\[1em]\\begin{pmatrix}(0.707106781187-0.707106781187j) & 0.0\\\\0.0 & (0.707106781187+0.707106781187j)\\\\\\end{pmatrix}\\end{equation}"
       ],
       "metadata": {},
       "output_type": "pyout",
       "prompt_number": 22,
       "text": [
        "Quantum object: dims = [[2], [2]], shape = [2, 2], type = oper, isherm = False\n",
        "Qobj data =\n",
        "[[ 0.70710678-0.70710678j  0.00000000+0.j        ]\n",
        " [ 0.00000000+0.j          0.70710678+0.70710678j]]"
       ]
      }
     ],
     "prompt_number": 22
    },
    {
     "cell_type": "code",
     "collapsed": false,
     "input": [],
     "language": "python",
     "metadata": {},
     "outputs": []
    }
   ],
   "metadata": {}
  }
 ]
}