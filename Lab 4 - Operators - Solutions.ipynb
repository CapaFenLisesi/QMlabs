{
 "metadata": {
  "name": ""
 },
 "nbformat": 3,
 "nbformat_minor": 0,
 "worksheets": [
  {
   "cells": [
    {
     "cell_type": "markdown",
     "metadata": {},
     "source": [
      "# Operators\n",
      "An overview of operator properties"
     ]
    },
    {
     "cell_type": "code",
     "collapsed": false,
     "input": [
      "%pylab inline\n",
      "from qutip import *"
     ],
     "language": "python",
     "metadata": {},
     "outputs": [
      {
       "output_type": "stream",
       "stream": "stdout",
       "text": [
        "Populating the interactive namespace from numpy and matplotlib\n"
       ]
      }
     ],
     "prompt_number": 1
    },
    {
     "cell_type": "code",
     "collapsed": false,
     "input": [
      "H = Qobj([[1],[0]])\n",
      "V = Qobj([[0],[1]])\n",
      "P45 = Qobj([[1/sqrt(2)],[1/sqrt(2)]])\n",
      "M45 = Qobj([[1/sqrt(2)],[-1/sqrt(2)]])\n",
      "R = Qobj([[1/sqrt(2)],[-1j/sqrt(2)]])\n",
      "L = Qobj([[1/sqrt(2)],[1j/sqrt(2)]])"
     ],
     "language": "python",
     "metadata": {},
     "outputs": [],
     "prompt_number": 2
    },
    {
     "cell_type": "markdown",
     "metadata": {},
     "source": [
      "## Example 1: the outer product and the projection operator"
     ]
    },
    {
     "cell_type": "markdown",
     "metadata": {},
     "source": [
      "We already have the $|H\\rangle$ state represented as a vector in the HV basis, so the $\\hat{P}_H$ operator is the outer product $|H\\rangle\\langle H|$:"
     ]
    },
    {
     "cell_type": "code",
     "collapsed": false,
     "input": [
      "Ph = H*H.dag()\n",
      "Ph"
     ],
     "language": "python",
     "metadata": {},
     "outputs": [
      {
       "latex": [
        "\\begin{equation}\\text{Quantum object: dims = [[2], [2]], shape = [2, 2], type = oper, isHerm = True}\\\\[1em]\\begin{pmatrix}1.0 & 0.0\\\\0.0 & 0.0\\\\\\end{pmatrix}\\end{equation}"
       ],
       "metadata": {},
       "output_type": "pyout",
       "prompt_number": 10,
       "text": [
        "Quantum object: dims = [[2], [2]], shape = [2, 2], type = oper, isherm = True\n",
        "Qobj data =\n",
        "[[ 1.  0.]\n",
        " [ 0.  0.]]"
       ]
      }
     ],
     "prompt_number": 10
    },
    {
     "cell_type": "markdown",
     "metadata": {},
     "source": [
      "Same with the $\\hat{P}_V$ operator:"
     ]
    },
    {
     "cell_type": "code",
     "collapsed": false,
     "input": [
      "Pv = V*V.dag()\n",
      "Pv"
     ],
     "language": "python",
     "metadata": {},
     "outputs": [
      {
       "latex": [
        "\\begin{equation}\\text{Quantum object: dims = [[2], [2]], shape = [2, 2], type = oper, isHerm = True}\\\\[1em]\\begin{pmatrix}0.0 & 0.0\\\\0.0 & 1.0\\\\\\end{pmatrix}\\end{equation}"
       ],
       "metadata": {},
       "output_type": "pyout",
       "prompt_number": 11,
       "text": [
        "Quantum object: dims = [[2], [2]], shape = [2, 2], type = oper, isherm = True\n",
        "Qobj data =\n",
        "[[ 0.  0.]\n",
        " [ 0.  1.]]"
       ]
      }
     ],
     "prompt_number": 11
    },
    {
     "cell_type": "markdown",
     "metadata": {},
     "source": [
      "## 1) Verify Eq. 4.38 for the HV basis states. Repeat for the 45, and \u00b1 basis"
     ]
    },
    {
     "cell_type": "code",
     "collapsed": false,
     "input": [],
     "language": "python",
     "metadata": {},
     "outputs": []
    },
    {
     "cell_type": "markdown",
     "metadata": {},
     "source": [
      "## 2) Represent the $\\hat{R}_p(\\theta)$ operator in the HV basis and verify your representation by operating on $|H\\rangle$ and $|V\\rangle$ states."
     ]
    },
    {
     "cell_type": "code",
     "collapsed": false,
     "input": [
      "def Rp(theta):\n",
      "    return Qobj([[cos(theta),-sin(theta)],[sin(theta),cos(theta)]]).tidyup()"
     ],
     "language": "python",
     "metadata": {},
     "outputs": [],
     "prompt_number": 25
    },
    {
     "cell_type": "code",
     "collapsed": false,
     "input": [
      "Rp(pi/2)"
     ],
     "language": "python",
     "metadata": {},
     "outputs": [
      {
       "latex": [
        "\\begin{equation}\\text{Quantum object: dims = [[2], [2]], shape = [2, 2], type = oper, isHerm = False}\\\\[1em]\\begin{pmatrix}0.0 & -1.0\\\\1.0 & 0.0\\\\\\end{pmatrix}\\end{equation}"
       ],
       "metadata": {},
       "output_type": "pyout",
       "prompt_number": 26,
       "text": [
        "Quantum object: dims = [[2], [2]], shape = [2, 2], type = oper, isherm = False\n",
        "Qobj data =\n",
        "[[ 0. -1.]\n",
        " [ 1.  0.]]"
       ]
      }
     ],
     "prompt_number": 26
    },
    {
     "cell_type": "code",
     "collapsed": false,
     "input": [
      "V == Rp(pi/2)*H"
     ],
     "language": "python",
     "metadata": {},
     "outputs": [
      {
       "metadata": {},
       "output_type": "pyout",
       "prompt_number": 28,
       "text": [
        "True"
       ]
      }
     ],
     "prompt_number": 28
    },
    {
     "cell_type": "markdown",
     "metadata": {},
     "source": [
      "## 3) Using your $\\hat{R}_p(\\theta)$ operator, verify the operator properties described in Sections 4.1 and 4.2. Specifically, verify Eqns. 4.5, 4.6, 4.7, 4.16, 4.18, 4.22, and 4.27"
     ]
    },
    {
     "cell_type": "code",
     "collapsed": false,
     "input": [],
     "language": "python",
     "metadata": {},
     "outputs": []
    },
    {
     "cell_type": "markdown",
     "metadata": {},
     "source": [
      "## Example: similarity transform\n",
      "The following defines a function that creates a similarity transform matrix. It takes the two old basis vectors and the two new basis vectors."
     ]
    },
    {
     "cell_type": "code",
     "collapsed": false,
     "input": [
      "def sim_transform(o_basis1, o_basis2, n_basis1, n_basis2):\n",
      "    a = n_basis1.dag()*o_basis1\n",
      "    b = n_basis1.dag()*o_basis2\n",
      "    c = n_basis2.dag()*o_basis1\n",
      "    d = n_basis2.dag()*o_basis2\n",
      "    return Qobj([[a.data[0,0],b.data[0,0]],[c.data[0,0],d.data[0,0]]])"
     ],
     "language": "python",
     "metadata": {},
     "outputs": [],
     "prompt_number": 61
    },
    {
     "cell_type": "code",
     "collapsed": false,
     "input": [
      "Shv45 = sim_transform(H,V,P45,M45)  # as found in Example 4.A.1, Eq. 4.A.10.\n",
      "Shv45"
     ],
     "language": "python",
     "metadata": {},
     "outputs": [
      {
       "latex": [
        "\\begin{equation}\\text{Quantum object: dims = [[2], [2]], shape = [2, 2], type = oper, isHerm = True}\\\\[1em]\\begin{pmatrix}0.707106781187 & 0.707106781187\\\\0.707106781187 & -0.707106781187\\\\\\end{pmatrix}\\end{equation}"
       ],
       "metadata": {},
       "output_type": "pyout",
       "prompt_number": 62,
       "text": [
        "Quantum object: dims = [[2], [2]], shape = [2, 2], type = oper, isherm = True\n",
        "Qobj data =\n",
        "[[ 0.70710678  0.70710678]\n",
        " [ 0.70710678 -0.70710678]]"
       ]
      }
     ],
     "prompt_number": 62
    },
    {
     "cell_type": "code",
     "collapsed": false,
     "input": [
      "Shv45 * L  # compare to Eq. "
     ],
     "language": "python",
     "metadata": {},
     "outputs": [
      {
       "latex": [
        "\\begin{equation}\\text{Quantum object: dims = [[2], [1]], shape = [2, 1], type = ket}\\\\[1em]\\begin{pmatrix}(0.5+0.5j)\\\\(0.5-0.5j)\\\\\\end{pmatrix}\\end{equation}"
       ],
       "metadata": {},
       "output_type": "pyout",
       "prompt_number": 60,
       "text": [
        "Quantum object: dims = [[2], [1]], shape = [2, 1], type = ket\n",
        "Qobj data =\n",
        "[[ 0.5+0.5j]\n",
        " [ 0.5-0.5j]]"
       ]
      }
     ],
     "prompt_number": 60
    },
    {
     "cell_type": "markdown",
     "metadata": {},
     "source": [
      "## 4) Represent $\\hat{P}_H$ in the \u00b145 basis.\n",
      "Check your answer against Eqns. 4.A.17 and 4.72"
     ]
    },
    {
     "cell_type": "code",
     "collapsed": false,
     "input": [
      "Shv45*Ph*Shv45.dag()"
     ],
     "language": "python",
     "metadata": {},
     "outputs": [
      {
       "latex": [
        "\\begin{equation}\\text{Quantum object: dims = [[2], [2]], shape = [2, 2], type = oper, isHerm = True}\\\\[1em]\\begin{pmatrix}0.5 & 0.5\\\\0.5 & 0.5\\\\\\end{pmatrix}\\end{equation}"
       ],
       "metadata": {},
       "output_type": "pyout",
       "prompt_number": 64,
       "text": [
        "Quantum object: dims = [[2], [2]], shape = [2, 2], type = oper, isherm = True\n",
        "Qobj data =\n",
        "[[ 0.5  0.5]\n",
        " [ 0.5  0.5]]"
       ]
      }
     ],
     "prompt_number": 64
    },
    {
     "cell_type": "code",
     "collapsed": false,
     "input": [],
     "language": "python",
     "metadata": {},
     "outputs": []
    }
   ],
   "metadata": {}
  }
 ]
}