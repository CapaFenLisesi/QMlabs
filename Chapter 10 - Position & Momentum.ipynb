{
 "metadata": {
  "name": ""
 },
 "nbformat": 3,
 "nbformat_minor": 0,
 "worksheets": [
  {
   "cells": [
    {
     "cell_type": "markdown",
     "metadata": {},
     "source": [
      "# Chapter 10 - Position and Momentum\n",
      "We can start using sympy to handle symbolic math (integrals and other calculus):"
     ]
    },
    {
     "cell_type": "code",
     "collapsed": false,
     "input": [
      "from sympy import *"
     ],
     "language": "python",
     "metadata": {},
     "outputs": [],
     "prompt_number": 1
    },
    {
     "cell_type": "code",
     "collapsed": false,
     "input": [
      "init_printing(use_unicode=True)"
     ],
     "language": "python",
     "metadata": {},
     "outputs": [],
     "prompt_number": 2
    },
    {
     "cell_type": "code",
     "collapsed": false,
     "input": [
      "x, y, z = symbols('x y z')\n",
      "a, c = symbols('a c', nonzero=True)"
     ],
     "language": "python",
     "metadata": {},
     "outputs": [],
     "prompt_number": 3
    },
    {
     "cell_type": "code",
     "collapsed": false,
     "input": [
      "integrate(x,(x,0,1))"
     ],
     "language": "python",
     "metadata": {},
     "outputs": [
      {
       "latex": [
        "$$\\frac{1}{2}$$"
       ],
       "metadata": {},
       "output_type": "pyout",
       "png": "[encoded data removed]",
       "prompt_number": 4,
       "text": [
        "1/2"
       ]
      }
     ],
     "prompt_number": 4
    },
    {
     "cell_type": "code",
     "collapsed": false,
     "input": [
      "integrate(x**2,(x,0,1))"
     ],
     "language": "python",
     "metadata": {},
     "outputs": [
      {
       "latex": [
        "$$\\frac{1}{3}$$"
       ],
       "metadata": {},
       "output_type": "pyout",
       "png": "[encoded data removed]",
       "prompt_number": 5,
       "text": [
        "1/3"
       ]
      }
     ],
     "prompt_number": 5
    },
    {
     "cell_type": "code",
     "collapsed": false,
     "input": [
      "integrate( (c*cos((pi*x)/(2.0*a)))**2,(x,-a,a))"
     ],
     "language": "python",
     "metadata": {},
     "outputs": [
      {
       "latex": [
        "$$- c^{2} \\begin{cases} - a & \\text{for}\\: \\frac{0.5 \\pi}{a} = 0 \\\\- 0.5 a & \\text{otherwise} \\end{cases} + c^{2} \\begin{cases} a & \\text{for}\\: \\frac{0.5 \\pi}{a} = 0 \\\\0.5 a & \\text{otherwise} \\end{cases}$$"
       ],
       "metadata": {},
       "output_type": "pyout",
       "png": "[encoded data removed]",
       "prompt_number": 6,
       "text": [
        "     \u239b\u23a7            0.5\u22c5\u03c0    \u239e      \u239b\u23a7           0.5\u22c5\u03c0    \u239e\n",
        "   2 \u239c\u23aa  -a    for \u2500\u2500\u2500\u2500\u2500 = 0\u239f    2 \u239c\u23aa  a    for \u2500\u2500\u2500\u2500\u2500 = 0\u239f\n",
        "- c \u22c5\u239c\u23a8              a      \u239f + c \u22c5\u239c\u23a8             a      \u239f\n",
        "     \u239c\u23aa                     \u239f      \u239c\u23aa                    \u239f\n",
        "     \u239d\u23a9-0.5\u22c5a    otherwise  \u23a0      \u239d\u23a90.5\u22c5a    otherwise  \u23a0"
       ]
      }
     ],
     "prompt_number": 6
    },
    {
     "cell_type": "code",
     "collapsed": false,
     "input": [
      "integrate( (1/sqrt(a)*cos((pi*x)/(2.0*a)))**2,(x,-a,a))"
     ],
     "language": "python",
     "metadata": {},
     "outputs": [
      {
       "latex": [
        "$$- \\frac{1}{a} \\begin{cases} - a & \\text{for}\\: \\frac{0.5 \\pi}{a} = 0 \\\\- 0.5 a & \\text{otherwise} \\end{cases} + \\frac{1}{a} \\begin{cases} a & \\text{for}\\: \\frac{0.5 \\pi}{a} = 0 \\\\0.5 a & \\text{otherwise} \\end{cases}$$"
       ],
       "metadata": {},
       "output_type": "pyout",
       "png": "[encoded data removed]",
       "prompt_number": 7,
       "text": [
        "  \u23a7            0.5\u22c5\u03c0       \u23a7           0.5\u22c5\u03c0    \n",
        "  \u23aa  -a    for \u2500\u2500\u2500\u2500\u2500 = 0   \u23aa  a    for \u2500\u2500\u2500\u2500\u2500 = 0\n",
        "  \u23a8              a         \u23a8             a      \n",
        "  \u23aa                        \u23aa                    \n",
        "  \u23a9-0.5\u22c5a    otherwise     \u23a90.5\u22c5a    otherwise  \n",
        "- \u2500\u2500\u2500\u2500\u2500\u2500\u2500\u2500\u2500\u2500\u2500\u2500\u2500\u2500\u2500\u2500\u2500\u2500\u2500\u2500\u2500\u2500 + \u2500\u2500\u2500\u2500\u2500\u2500\u2500\u2500\u2500\u2500\u2500\u2500\u2500\u2500\u2500\u2500\u2500\u2500\u2500\u2500\u2500\n",
        "            a                        a          "
       ]
      }
     ],
     "prompt_number": 7
    },
    {
     "cell_type": "code",
     "collapsed": false,
     "input": [
      "integrate( x*(1/sqrt(a)*cos((pi*x)/(2.0*a)))**2,(x,-a,a))"
     ],
     "language": "python",
     "metadata": {},
     "outputs": [
      {
       "latex": [
        "$$0$$"
       ],
       "metadata": {},
       "output_type": "pyout",
       "png": "[encoded data removed]",
       "prompt_number": 8,
       "text": [
        "0"
       ]
      }
     ],
     "prompt_number": 8
    },
    {
     "cell_type": "code",
     "collapsed": false,
     "input": [
      "integrate( x**2*(1/sqrt(a)*cos((pi*x)/(2.0*a)))**2,(x,-a,a))"
     ],
     "language": "python",
     "metadata": {},
     "outputs": [
      {
       "latex": [
        "$$- \\frac{1}{a} \\left(- 0.166666666666667 a^{3} + \\frac{1.0 a^{3}}{\\pi^{2}}\\right) + \\frac{1}{a} \\left(- \\frac{1.0 a^{3}}{\\pi^{2}} + 0.166666666666667 a^{3}\\right)$$"
       ],
       "metadata": {},
       "output_type": "pyout",
       "png": "[encoded data removed]",
       "prompt_number": 9,
       "text": [
        "                                3          3                       \n",
        "                       3   1.0\u22c5a      1.0\u22c5a                       3\n",
        "  - 0.166666666666667\u22c5a  + \u2500\u2500\u2500\u2500\u2500\u2500   - \u2500\u2500\u2500\u2500\u2500\u2500 + 0.166666666666667\u22c5a \n",
        "                              2          2                         \n",
        "                             \u03c0          \u03c0                          \n",
        "- \u2500\u2500\u2500\u2500\u2500\u2500\u2500\u2500\u2500\u2500\u2500\u2500\u2500\u2500\u2500\u2500\u2500\u2500\u2500\u2500\u2500\u2500\u2500\u2500\u2500\u2500\u2500\u2500\u2500\u2500\u2500 + \u2500\u2500\u2500\u2500\u2500\u2500\u2500\u2500\u2500\u2500\u2500\u2500\u2500\u2500\u2500\u2500\u2500\u2500\u2500\u2500\u2500\u2500\u2500\u2500\u2500\u2500\u2500\u2500\u2500\u2500\u2500\n",
        "                 a                                 a               "
       ]
      }
     ],
     "prompt_number": 9
    },
    {
     "cell_type": "code",
     "collapsed": false,
     "input": [
      "_.n()  # \"_\" refers to the last entry, and .n() method approximates the numerical part"
     ],
     "language": "python",
     "metadata": {},
     "outputs": [
      {
       "latex": [
        "$$0.130690966048658 a^{2}$$"
       ],
       "metadata": {},
       "output_type": "pyout",
       "png": "[encoded data removed]",
       "prompt_number": 10,
       "text": [
        "                   2\n",
        "0.130690966048658\u22c5a "
       ]
      }
     ],
     "prompt_number": 10
    },
    {
     "cell_type": "markdown",
     "metadata": {},
     "source": [
      "## Example 10.2"
     ]
    },
    {
     "cell_type": "code",
     "collapsed": false,
     "input": [
      "h = symbols('hbar')"
     ],
     "language": "python",
     "metadata": {},
     "outputs": [],
     "prompt_number": 11
    },
    {
     "cell_type": "code",
     "collapsed": false,
     "input": [
      "-1j*h*diff( cos((pi*x)/(2*a)) ,x)"
     ],
     "language": "python",
     "metadata": {},
     "outputs": [
      {
       "latex": [
        "$$\\frac{0.5 \\pi}{a} i \\hbar \\sin{\\left (\\frac{\\pi x}{2 a} \\right )}$$"
       ],
       "metadata": {},
       "output_type": "pyout",
       "png": "[encoded data removed]",
       "prompt_number": 12,
       "text": [
        "              \u239b\u03c0\u22c5x\u239e\n",
        "0.5\u22c5\u2148\u22c5\u03c0\u22c5h\u0305\u22c5sin\u239c\u2500\u2500\u2500\u239f\n",
        "              \u239d2\u22c5a\u23a0\n",
        "\u2500\u2500\u2500\u2500\u2500\u2500\u2500\u2500\u2500\u2500\u2500\u2500\u2500\u2500\u2500\u2500\u2500\u2500\u2500\n",
        "         a         "
       ]
      }
     ],
     "prompt_number": 12
    },
    {
     "cell_type": "code",
     "collapsed": false,
     "input": [
      "-1j*h*diff( _ ,x)"
     ],
     "language": "python",
     "metadata": {},
     "outputs": [
      {
       "latex": [
        "$$\\frac{0.25 \\pi^{2}}{a^{2}} \\hbar^{2} \\cos{\\left (\\frac{\\pi x}{2 a} \\right )}$$"
       ],
       "metadata": {},
       "output_type": "pyout",
       "png": "[encoded data removed]",
       "prompt_number": 13,
       "text": [
        "      2   2    \u239b\u03c0\u22c5x\u239e\n",
        "0.25\u22c5\u03c0 \u22c5h\u0305 \u22c5cos\u239c\u2500\u2500\u2500\u239f\n",
        "               \u239d2\u22c5a\u23a0\n",
        "\u2500\u2500\u2500\u2500\u2500\u2500\u2500\u2500\u2500\u2500\u2500\u2500\u2500\u2500\u2500\u2500\u2500\u2500\u2500\u2500\n",
        "          2         \n",
        "         a          "
       ]
      }
     ],
     "prompt_number": 13
    },
    {
     "cell_type": "code",
     "collapsed": false,
     "input": [
      "integrate( (cos((pi*x)/(2*a)))**2, (x,-a,a))"
     ],
     "language": "python",
     "metadata": {},
     "outputs": [
      {
       "latex": [
        "$$\\begin{cases} 2 a & \\text{for}\\: \\frac{\\pi}{2 a} = 0 \\\\a & \\text{otherwise} \\end{cases}$$"
       ],
       "metadata": {},
       "output_type": "pyout",
       "png": "[encoded data removed]",
       "prompt_number": 14,
       "text": [
        "\u23a7          \u03c0     \n",
        "\u23aa2\u22c5a  for \u2500\u2500\u2500 = 0\n",
        "\u23a8         2\u22c5a    \n",
        "\u23aa                \n",
        "\u23a9 a    otherwise "
       ]
      }
     ],
     "prompt_number": 14
    },
    {
     "cell_type": "markdown",
     "metadata": {},
     "source": [
      "## Example 10.3"
     ]
    },
    {
     "cell_type": "code",
     "collapsed": false,
     "input": [
      "p = symbols('p')"
     ],
     "language": "python",
     "metadata": {},
     "outputs": [],
     "prompt_number": 16
    },
    {
     "cell_type": "code",
     "collapsed": false,
     "input": [
      "integrate(1/sqrt(2*pi*a*h)*exp(-1j*p*x/h)*cos((pi*x)/(2*a)),(x,-a,a))"
     ],
     "language": "python",
     "metadata": {},
     "outputs": [
      {
       "latex": [
        "$$\\int_{- a}^{a} \\frac{\\sqrt{2} \\cos{\\left (\\frac{\\pi x}{2 a} \\right )}}{2 \\sqrt{\\pi} \\sqrt{a \\hbar}} e^{- \\frac{1.0 i}{\\hbar} p x}\\, dx$$"
       ],
       "metadata": {},
       "output_type": "pyout",
       "png": "[encoded data removed]",
       "prompt_number": 17,
       "text": [
        "a                                \n",
        "\u2320                                \n",
        "\u23ae         -1.0\u22c5\u2148\u22c5p\u22c5x             \n",
        "\u23ae         \u2500\u2500\u2500\u2500\u2500\u2500\u2500\u2500\u2500\u2500\u2500            \n",
        "\u23ae    ___       h\u0305        \u239b\u03c0\u22c5x\u239e   \n",
        "\u23ae  \u2572\u2571 2 \u22c5\u212f           \u22c5cos\u239c\u2500\u2500\u2500\u239f   \n",
        "\u23ae                        \u239d2\u22c5a\u23a0   \n",
        "\u23ae  \u2500\u2500\u2500\u2500\u2500\u2500\u2500\u2500\u2500\u2500\u2500\u2500\u2500\u2500\u2500\u2500\u2500\u2500\u2500\u2500\u2500\u2500\u2500\u2500\u2500\u2500\u2500 dx\n",
        "\u23ae            ___   ______        \n",
        "\u23ae        2\u22c5\u2572\u2571 \u03c0 \u22c5\u2572\u2571 a\u22c5h\u0305         \n",
        "\u2321                                \n",
        "-a                               "
       ]
      }
     ],
     "prompt_number": 17
    },
    {
     "cell_type": "code",
     "collapsed": false,
     "input": [],
     "language": "python",
     "metadata": {},
     "outputs": []
    }
   ],
   "metadata": {}
  }
 ]
}