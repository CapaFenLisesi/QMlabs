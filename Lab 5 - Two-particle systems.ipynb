{
 "metadata": {
  "name": ""
 },
 "nbformat": 3,
 "nbformat_minor": 0,
 "worksheets": [
  {
   "cells": [
    {
     "cell_type": "markdown",
     "metadata": {},
     "source": [
      "# Two-particle systems\n",
      "An introduction to multi-particle spaces, starting with photon polarization states"
     ]
    },
    {
     "cell_type": "code",
     "collapsed": false,
     "input": [
      "%pylab\n",
      "from qutip import *"
     ],
     "language": "python",
     "metadata": {},
     "outputs": [
      {
       "output_type": "stream",
       "stream": "stdout",
       "text": [
        "Using matplotlib backend: MacOSX\n",
        "Populating the interactive namespace from numpy and matplotlib\n"
       ]
      }
     ],
     "prompt_number": 1
    },
    {
     "cell_type": "markdown",
     "metadata": {},
     "source": [
      "###The polarization states (in the z-basis):"
     ]
    },
    {
     "cell_type": "code",
     "collapsed": false,
     "input": [
      "H = Qobj([[1],[0]])\n",
      "V = Qobj([[0],[1]])\n",
      "P45 = Qobj([[1/sqrt(2)],[1/sqrt(2)]])\n",
      "M45 = Qobj([[1/sqrt(2)],[-1/sqrt(2)]])\n",
      "R = Qobj([[1/sqrt(2)],[-1j/sqrt(2)]])\n",
      "L = Qobj([[1/sqrt(2)],[1j/sqrt(2)]])"
     ],
     "language": "python",
     "metadata": {},
     "outputs": [],
     "prompt_number": 2
    },
    {
     "cell_type": "markdown",
     "metadata": {},
     "source": [
      "###Define two-particle states using the `tensor()` function:"
     ]
    },
    {
     "cell_type": "code",
     "collapsed": false,
     "input": [
      "HH = tensor(H,H)\n",
      "HV = tensor(H,V)\n",
      "VH = tensor(V,H)\n",
      "VV = tensor(V,V)"
     ],
     "language": "python",
     "metadata": {},
     "outputs": [],
     "prompt_number": 3
    },
    {
     "cell_type": "markdown",
     "metadata": {},
     "source": [
      "The polarization measurement operator (for one photon):"
     ]
    },
    {
     "cell_type": "code",
     "collapsed": false,
     "input": [
      "Phv = H*H.dag() - V*V.dag()"
     ],
     "language": "python",
     "metadata": {},
     "outputs": [],
     "prompt_number": 8
    },
    {
     "cell_type": "markdown",
     "metadata": {},
     "source": [
      "The two-photon operator, measuring the signal photon, formed with the `tensor()` function and the `qeye()` function (identity operator)"
     ]
    },
    {
     "cell_type": "code",
     "collapsed": false,
     "input": [
      "Phv_s = tensor(Phv,qeye(2))"
     ],
     "language": "python",
     "metadata": {},
     "outputs": [],
     "prompt_number": 11
    },
    {
     "cell_type": "markdown",
     "metadata": {},
     "source": [
      "The two-photon operator, this time measuring the idler photon:"
     ]
    },
    {
     "cell_type": "code",
     "collapsed": false,
     "input": [
      "Phv_i = tensor(qeye(2),Phv)"
     ],
     "language": "python",
     "metadata": {},
     "outputs": [],
     "prompt_number": 14
    },
    {
     "cell_type": "markdown",
     "metadata": {},
     "source": [
      "The two-photon operators, projecting idler photon to H:"
     ]
    },
    {
     "cell_type": "code",
     "collapsed": false,
     "input": [
      "Ph = H*H.dag()\n",
      "Ph_i = tensor(qeye(2),Ph)  # Ph for idler photon"
     ],
     "language": "python",
     "metadata": {},
     "outputs": [],
     "prompt_number": 16
    },
    {
     "cell_type": "markdown",
     "metadata": {},
     "source": [
      "And then for the signal photon:"
     ]
    },
    {
     "cell_type": "code",
     "collapsed": false,
     "input": [
      "Ph_s = tensor(Ph,qeye(2))  # Ph for signal photon"
     ],
     "language": "python",
     "metadata": {},
     "outputs": [],
     "prompt_number": 17
    },
    {
     "cell_type": "markdown",
     "metadata": {},
     "source": [
      "###Ex: find the probability of measuring a horizontal idler photon in the state $|HH\\rangle$"
     ]
    },
    {
     "cell_type": "code",
     "collapsed": false,
     "input": [
      "HH.dag()*Ph_i*HH"
     ],
     "language": "python",
     "metadata": {},
     "outputs": [
      {
       "latex": [
        "\\begin{equation}\\text{Quantum object: dims = [[1, 1], [1, 1]], shape = [1, 1], type = oper, isHerm = True}\\\\[1em]\\begin{pmatrix}1.0\\\\\\end{pmatrix}\\end{equation}"
       ],
       "metadata": {},
       "output_type": "pyout",
       "prompt_number": 19,
       "text": [
        "Quantum object: dims = [[1, 1], [1, 1]], shape = [1, 1], type = oper, isherm = True\n",
        "Qobj data =\n",
        "[[ 1.]]"
       ]
      }
     ],
     "prompt_number": 19
    },
    {
     "cell_type": "markdown",
     "metadata": {},
     "source": [
      "###Ex: find the probability of measuring a horizontal idler photon in the state $|\\psi\\rangle = |H,+45\\rangle$"
     ]
    },
    {
     "cell_type": "code",
     "collapsed": false,
     "input": [
      "psi = tensor(H,P45)  # the prepared state"
     ],
     "language": "python",
     "metadata": {},
     "outputs": [],
     "prompt_number": 33
    },
    {
     "cell_type": "code",
     "collapsed": false,
     "input": [
      "psi.dag()*Ph_i*psi"
     ],
     "language": "python",
     "metadata": {},
     "outputs": [
      {
       "latex": [
        "\\begin{equation}\\text{Quantum object: dims = [[1, 1], [1, 1]], shape = [1, 1], type = oper, isHerm = True}\\\\[1em]\\begin{pmatrix}0.5\\\\\\end{pmatrix}\\end{equation}"
       ],
       "metadata": {},
       "output_type": "pyout",
       "prompt_number": 36,
       "text": [
        "Quantum object: dims = [[1, 1], [1, 1]], shape = [1, 1], type = oper, isherm = True\n",
        "Qobj data =\n",
        "[[ 0.5]]"
       ]
      }
     ],
     "prompt_number": 36
    },
    {
     "cell_type": "markdown",
     "metadata": {},
     "source": [
      "###Example 8.2 prob. of measuring vertical signal and horizontal idler if $|\\psi\\rangle = |R,+45\\rangle$"
     ]
    },
    {
     "cell_type": "code",
     "collapsed": false,
     "input": [
      "psi = tensor(R,P45)\n",
      "psi.dag()*VH*VH.dag()*psi"
     ],
     "language": "python",
     "metadata": {},
     "outputs": [
      {
       "latex": [
        "\\begin{equation}\\text{Quantum object: dims = [[1, 1], [1, 1]], shape = [1, 1], type = oper, isHerm = True}\\\\[1em]\\begin{pmatrix}0.25\\\\\\end{pmatrix}\\end{equation}"
       ],
       "metadata": {},
       "output_type": "pyout",
       "prompt_number": 20,
       "text": [
        "Quantum object: dims = [[1, 1], [1, 1]], shape = [1, 1], type = oper, isherm = True\n",
        "Qobj data =\n",
        "[[ 0.25]]"
       ]
      }
     ],
     "prompt_number": 20
    },
    {
     "cell_type": "markdown",
     "metadata": {},
     "source": [
      "##Entangled states:"
     ]
    },
    {
     "cell_type": "code",
     "collapsed": false,
     "input": [
      "phiPlus = 1/sqrt(2)*(HH + VV)"
     ],
     "language": "python",
     "metadata": {},
     "outputs": [],
     "prompt_number": 23
    },
    {
     "cell_type": "code",
     "collapsed": false,
     "input": [
      "phiPlus.dag()*Ph_i*phiPlus  # probability of measuring a horizontal idler photon:"
     ],
     "language": "python",
     "metadata": {},
     "outputs": [
      {
       "latex": [
        "\\begin{equation}\\text{Quantum object: dims = [[1, 1], [1, 1]], shape = [1, 1], type = oper, isHerm = True}\\\\[1em]\\begin{pmatrix}0.5\\\\\\end{pmatrix}\\end{equation}"
       ],
       "metadata": {},
       "output_type": "pyout",
       "prompt_number": 24,
       "text": [
        "Quantum object: dims = [[1, 1], [1, 1]], shape = [1, 1], type = oper, isherm = True\n",
        "Qobj data =\n",
        "[[ 0.5]]"
       ]
      }
     ],
     "prompt_number": 24
    },
    {
     "cell_type": "code",
     "collapsed": false,
     "input": [
      "phiPlus.dag()*Ph_s*phiPlus  # probability of measuring a horizontal signal photon"
     ],
     "language": "python",
     "metadata": {},
     "outputs": [
      {
       "latex": [
        "\\begin{equation}\\text{Quantum object: dims = [[1, 1], [1, 1]], shape = [1, 1], type = oper, isHerm = True}\\\\[1em]\\begin{pmatrix}0.5\\\\\\end{pmatrix}\\end{equation}"
       ],
       "metadata": {},
       "output_type": "pyout",
       "prompt_number": 25,
       "text": [
        "Quantum object: dims = [[1, 1], [1, 1]], shape = [1, 1], type = oper, isherm = True\n",
        "Qobj data =\n",
        "[[ 0.5]]"
       ]
      }
     ],
     "prompt_number": 25
    },
    {
     "cell_type": "code",
     "collapsed": false,
     "input": [],
     "language": "python",
     "metadata": {},
     "outputs": []
    },
    {
     "cell_type": "markdown",
     "metadata": {},
     "source": [
      "##Now, find $P(H_s|H_i)$ (Example 8.5)"
     ]
    },
    {
     "cell_type": "code",
     "collapsed": false,
     "input": [
      "phiPlus.dag()*tensor(M45,P45)*tensor(M45,P45).dag()*phiPlus"
     ],
     "language": "python",
     "metadata": {},
     "outputs": [
      {
       "latex": [
        "\\begin{equation}\\text{Quantum object: dims = [[1, 1], [1, 1]], shape = [1, 1], type = oper, isHerm = True}\\\\[1em]\\begin{pmatrix}0.0\\\\\\end{pmatrix}\\end{equation}"
       ],
       "metadata": {},
       "output_type": "pyout",
       "prompt_number": 28,
       "text": [
        "Quantum object: dims = [[1, 1], [1, 1]], shape = [1, 1], type = oper, isherm = True\n",
        "Qobj data =\n",
        "[[ 0.]]"
       ]
      }
     ],
     "prompt_number": 28
    },
    {
     "cell_type": "code",
     "collapsed": false,
     "input": [
      "phiPlus.dag()*tensor(qeye(2),P45)*tensor(qeye(2),P45).dag()*phiPlus"
     ],
     "language": "python",
     "metadata": {},
     "outputs": [
      {
       "latex": [
        "\\begin{equation}\\text{Quantum object: dims = [[1, 1], [1, 1]], shape = [1, 1], type = oper, isHerm = True}\\\\[1em]\\begin{pmatrix}0.5\\\\\\end{pmatrix}\\end{equation}"
       ],
       "metadata": {},
       "output_type": "pyout",
       "prompt_number": 27,
       "text": [
        "Quantum object: dims = [[1, 1], [1, 1]], shape = [1, 1], type = oper, isherm = True\n",
        "Qobj data =\n",
        "[[ 0.5]]"
       ]
      }
     ],
     "prompt_number": 27
    },
    {
     "cell_type": "markdown",
     "metadata": {},
     "source": [
      "$P(H_s|H_i) = \\frac{P(H_s,H_i)}{P(H_i)}$"
     ]
    },
    {
     "cell_type": "code",
     "collapsed": false,
     "input": [
      "0.5/0.5"
     ],
     "language": "python",
     "metadata": {},
     "outputs": [
      {
       "metadata": {},
       "output_type": "pyout",
       "prompt_number": 55,
       "text": [
        "1.0"
       ]
      }
     ],
     "prompt_number": 55
    },
    {
     "cell_type": "markdown",
     "metadata": {},
     "source": [
      "## Perfect correlation between idler and signal... regardless of when they are measured."
     ]
    },
    {
     "cell_type": "markdown",
     "metadata": {},
     "source": [
      "## Using these states solve problems 8.2, 8.3, 8.7, 8.8"
     ]
    },
    {
     "cell_type": "code",
     "collapsed": false,
     "input": [],
     "language": "python",
     "metadata": {},
     "outputs": []
    }
   ],
   "metadata": {}
  }
 ]
}